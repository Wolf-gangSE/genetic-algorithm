{
 "cells": [
  {
   "cell_type": "code",
   "execution_count": 561,
   "metadata": {},
   "outputs": [],
   "source": [
    "import numpy as np, random, operator, pandas as pd, matplotlib.pyplot as plt, haversine as hs"
   ]
  },
  {
   "cell_type": "markdown",
   "metadata": {},
   "source": [
    "## Create necessary classes and functions"
   ]
  },
  {
   "cell_type": "markdown",
   "metadata": {},
   "source": [
    "Create class to handle \"cities\""
   ]
  },
  {
   "cell_type": "code",
   "execution_count": 562,
   "metadata": {},
   "outputs": [],
   "source": [
    "class City:\n",
    "    def __init__(self, name, x, y):\n",
    "        self.name = name\n",
    "        self.x = x\n",
    "        self.y = y\n",
    "    \n",
    "    def distance(self, city):\n",
    "        loc1 = (self.x, self.y)\n",
    "        loc2 = (city.x, city.y)\n",
    "        distance = hs.haversine(loc1,loc2)\n",
    "        return distance\n",
    "    \n",
    "    def get_name(self):\n",
    "        return self.name\n",
    "    \n",
    "    def __repr__(self):\n",
    "        return \"(\" + str(self.x) + \",\" + str(self.y) + \")\""
   ]
  },
  {
   "cell_type": "markdown",
   "metadata": {},
   "source": [
    "Create a fitness function"
   ]
  },
  {
   "cell_type": "code",
   "execution_count": 563,
   "metadata": {},
   "outputs": [],
   "source": [
    "class Fitness:\n",
    "    def __init__(self, route):\n",
    "        self.route = route\n",
    "        self.distance = 0\n",
    "        self.fitness= 0.0\n",
    "    \n",
    "    def routeDistance(self):\n",
    "        if self.distance ==0:\n",
    "            pathDistance = 0\n",
    "            for i in range(0, len(self.route)):\n",
    "                fromCity = self.route[i]\n",
    "                toCity = None\n",
    "                if i + 1 < len(self.route):\n",
    "                    toCity = self.route[i + 1]\n",
    "                else:\n",
    "                    toCity = self.route[0]\n",
    "                pathDistance += fromCity.distance(toCity)\n",
    "            self.distance = pathDistance\n",
    "        return self.distance\n",
    "    \n",
    "    def routeFitness(self):\n",
    "        if self.fitness == 0:\n",
    "            self.fitness = 1 / float(self.routeDistance())\n",
    "        return self.fitness"
   ]
  },
  {
   "cell_type": "markdown",
   "metadata": {},
   "source": [
    "## Create our initial population"
   ]
  },
  {
   "cell_type": "markdown",
   "metadata": {},
   "source": [
    "Route generator"
   ]
  },
  {
   "cell_type": "code",
   "execution_count": 564,
   "metadata": {},
   "outputs": [],
   "source": [
    "def createRoute(cityList):\n",
    "    route = random.sample(cityList, len(cityList))\n",
    "    route_repr = []\n",
    "    for i in range(0, len(route)):\n",
    "        route_repr.append(route[i].get_name())\n",
    "    print(route_repr)\n",
    "    return route"
   ]
  },
  {
   "cell_type": "markdown",
   "metadata": {},
   "source": [
    "Create first \"population\" (list of routes)"
   ]
  },
  {
   "cell_type": "code",
   "execution_count": 565,
   "metadata": {},
   "outputs": [],
   "source": [
    "def initialPopulation(popSize, cityList):\n",
    "    population = []\n",
    "\n",
    "    print(\"\\nDefining the first 100 routes...\")\n",
    "\n",
    "    for i in range(0, popSize):\n",
    "        population.append(createRoute(cityList))\n",
    "    \n",
    "    print()\n",
    "    return population"
   ]
  },
  {
   "cell_type": "markdown",
   "metadata": {},
   "source": [
    "## Create the genetic algorithm"
   ]
  },
  {
   "cell_type": "markdown",
   "metadata": {},
   "source": [
    "Rank individuals"
   ]
  },
  {
   "cell_type": "code",
   "execution_count": 566,
   "metadata": {},
   "outputs": [],
   "source": [
    "def rankRoutes(population):\n",
    "    fitnessResults = {}\n",
    "    for i in range(0,len(population)):\n",
    "        fitnessResults[i] = Fitness(population[i]).routeFitness()\n",
    "    return sorted(fitnessResults.items(), key = operator.itemgetter(1), reverse = True)"
   ]
  },
  {
   "cell_type": "markdown",
   "metadata": {},
   "source": [
    "Create a selection function that will be used to make the list of parent routes"
   ]
  },
  {
   "cell_type": "code",
   "execution_count": 567,
   "metadata": {},
   "outputs": [],
   "source": [
    "def selection(popRanked, eliteSize):\n",
    "    selectionResults = []\n",
    "    df = pd.DataFrame(np.array(popRanked), columns=[\"Index\",\"Fitness\"])\n",
    "    df['cum_sum'] = df.Fitness.cumsum()\n",
    "    df['cum_perc'] = 100*df.cum_sum/df.Fitness.sum()\n",
    "\n",
    "    for i in range(0, eliteSize):\n",
    "        selectionResults.append(popRanked[i][0])\n",
    "    for i in range(0, int(len(popRanked)/2) - eliteSize):\n",
    "        pick = 100*random.random()\n",
    "        for i in range(0, len(popRanked)):\n",
    "            if pick <= df.iat[i,3]:\n",
    "                selectionResults.append(popRanked[i][0])\n",
    "                break\n",
    "    return selectionResults"
   ]
  },
  {
   "cell_type": "markdown",
   "metadata": {},
   "source": [
    "Create mating pool"
   ]
  },
  {
   "cell_type": "code",
   "execution_count": 568,
   "metadata": {},
   "outputs": [],
   "source": [
    "def matingPool(population, selectionResults):\n",
    "    matingpool = []\n",
    "    for i in range(0, len(selectionResults)):\n",
    "        index = selectionResults[i]\n",
    "        matingpool.append(population[index])\n",
    "    return matingpool"
   ]
  },
  {
   "cell_type": "markdown",
   "metadata": {},
   "source": [
    "Create a crossover function for two parents to create one child"
   ]
  },
  {
   "cell_type": "code",
   "execution_count": 569,
   "metadata": {},
   "outputs": [],
   "source": [
    "def breed(parent1, parent2):\n",
    "    child = []\n",
    "    childP1 = []\n",
    "    childP2 = []\n",
    "    \n",
    "    geneA = int(random.random() * len(parent1))\n",
    "    geneB = int(random.random() * len(parent1))\n",
    "    \n",
    "    startGene = min(geneA, geneB)\n",
    "    endGene = max(geneA, geneB)\n",
    "\n",
    "    for i in range(startGene, endGene):\n",
    "        childP1.append(parent1[i])\n",
    "        \n",
    "    childP2 = [item for item in parent2 if item not in childP1]\n",
    "\n",
    "    child = childP1 + childP2\n",
    "    return child"
   ]
  },
  {
   "cell_type": "markdown",
   "metadata": {},
   "source": [
    "Create function to run crossover over full mating pool"
   ]
  },
  {
   "cell_type": "code",
   "execution_count": 570,
   "metadata": {},
   "outputs": [],
   "source": [
    "def breedPopulation(matingpool, eliteSize):\n",
    "    children = []\n",
    "    length = len(matingpool)*2 - eliteSize\n",
    "    pool = random.sample(matingpool, len(matingpool))\n",
    "\n",
    "    for i in range(0,eliteSize):\n",
    "        children.append(matingpool[i])\n",
    "    \n",
    "    for i in range(0, length):\n",
    "        child = breed(pool[random.randint(0,len(matingpool)-1)], pool[random.randint(0,len(matingpool)-1)])\n",
    "        children.append(child)\n",
    "    return children"
   ]
  },
  {
   "cell_type": "markdown",
   "metadata": {},
   "source": [
    "Create function to mutate a single route"
   ]
  },
  {
   "cell_type": "code",
   "execution_count": 571,
   "metadata": {},
   "outputs": [],
   "source": [
    "def mutate(individual, mutationRate):\n",
    "    for swapped in range(len(individual)):\n",
    "        if(random.random() < mutationRate):\n",
    "            swapWith = int(random.random() * len(individual))\n",
    "            \n",
    "            city1 = individual[swapped]\n",
    "            city2 = individual[swapWith]\n",
    "            \n",
    "            individual[swapped] = city2\n",
    "            individual[swapWith] = city1\n",
    "    return individual"
   ]
  },
  {
   "cell_type": "markdown",
   "metadata": {},
   "source": [
    "Create function to run mutation over entire population"
   ]
  },
  {
   "cell_type": "code",
   "execution_count": 572,
   "metadata": {},
   "outputs": [],
   "source": [
    "def mutatePopulation(population, mutationRate):\n",
    "    mutatedPop = []\n",
    "    \n",
    "    for ind in range(0, len(population)):\n",
    "        mutatedInd = mutate(population[ind], mutationRate)\n",
    "        mutatedPop.append(mutatedInd)\n",
    "    return mutatedPop"
   ]
  },
  {
   "cell_type": "markdown",
   "metadata": {},
   "source": [
    "Put all steps together to create the next generation"
   ]
  },
  {
   "cell_type": "code",
   "execution_count": 573,
   "metadata": {},
   "outputs": [],
   "source": [
    "def nextGeneration(currentGen, eliteSize, mutationRate):\n",
    "    \n",
    "    popRanked = rankRoutes(currentGen)\n",
    "    selectionResults = selection(popRanked, eliteSize)\n",
    "    matingpool = matingPool(currentGen, selectionResults)\n",
    "    children = breedPopulation(matingpool, eliteSize)\n",
    "    nextGeneration = mutatePopulation(children, mutationRate)\n",
    "    return nextGeneration"
   ]
  },
  {
   "cell_type": "markdown",
   "metadata": {},
   "source": [
    "Final step: create the genetic algorithm"
   ]
  },
  {
   "cell_type": "code",
   "execution_count": 574,
   "metadata": {},
   "outputs": [],
   "source": [
    "def geneticAlgorithm(population, popSize, eliteSize, mutationRate, generations):\n",
    "    pop = initialPopulation(popSize, population)\n",
    "    print(\"Initial distance: \" + str(1 / rankRoutes(pop)[0][1]))\n",
    "    \n",
    "    for i in range(0, generations):\n",
    "        pop = nextGeneration(pop, eliteSize, mutationRate)\n",
    "    \n",
    "    print(\"Final distance: \" + str(1 / rankRoutes(pop)[0][1]))\n",
    "    bestRouteIndex = rankRoutes(pop)[0][0]\n",
    "    bestRoute = pop[bestRouteIndex]\n",
    "    bestRoute_repr = []\n",
    "    for i in range(0, len(bestRoute)):\n",
    "        bestRoute_repr.append(bestRoute[i].get_name())\n",
    "    return bestRoute_repr"
   ]
  },
  {
   "cell_type": "markdown",
   "metadata": {},
   "source": [
    "## Running the genetic algorithm"
   ]
  },
  {
   "cell_type": "markdown",
   "metadata": {},
   "source": [
    "Create list of cities"
   ]
  },
  {
   "cell_type": "code",
   "execution_count": 575,
   "metadata": {},
   "outputs": [],
   "source": [
    "cityList = []\n",
    "\n",
    "cityList.append(City(\"Belo Jardim\",-8.3333491, -36.4427761)) \n",
    "cityList.append(City(\"Caruaru\", -8.2808005,-36.0148396)) \n",
    "cityList.append(City(\"Recife\", -8.0421498,-35.077937)) \n",
    "cityList.append(City(\"Olinda\", -7.9965298,-34.9070475)) \n",
    "cityList.append(City(\"Petrolina\", -9.3727802,-40.5450689)) \n",
    "cityList.append(City(\"Garanhuns\", -8.9365336,-36.6418759)) \n",
    "cityList.append(City(\"Jaboatão dos Gararapes\", -8.1458702,-35.070392)) \n",
    "cityList.append(City(\"Paulista\", -7.9101902,-34.9955682)) # Paulista\n",
    "cityList.append(City(\"Santa Cruz do Capibaribe\", -7.943912,-36.2161598)) \n",
    "cityList.append(City(\"Arcoverde\", -8.4195147,-37.0764491)) \n",
    "cityList.append(City(\"Sanharó\", -8.3592448,-36.5671791)) \n",
    "cityList.append(City(\"Pesqueira\", -8.3598692,-36.7136023)) \n",
    "cityList.append(City(\"Lajedo\", -8.6744107,-36.4287359)) \n",
    "cityList.append(City(\"Bonito\", -8.486932,-35.8304625)) \n",
    "cityList.append(City(\"Gravatá\", -8.2100021,-35.5994693)) "
   ]
  },
  {
   "cell_type": "markdown",
   "metadata": {},
   "source": [
    "Run the genetic algorithm"
   ]
  },
  {
   "cell_type": "code",
   "execution_count": 576,
   "metadata": {},
   "outputs": [
    {
     "name": "stdout",
     "output_type": "stream",
     "text": [
      "\n",
      "Defining the first 100 routes...\n",
      "['Belo Jardim', 'Caruaru', 'Lajedo', 'Pesqueira', 'Petrolina', 'Santa Cruz do Capibaribe', 'Olinda', 'Paulista', 'Bonito', 'Jaboatão dos Gararapes', 'Recife', 'Garanhuns', 'Gravatá', 'Arcoverde', 'Sanharó']\n",
      "['Belo Jardim', 'Gravatá', 'Olinda', 'Santa Cruz do Capibaribe', 'Petrolina', 'Bonito', 'Pesqueira', 'Sanharó', 'Arcoverde', 'Garanhuns', 'Lajedo', 'Caruaru', 'Jaboatão dos Gararapes', 'Paulista', 'Recife']\n",
      "['Pesqueira', 'Belo Jardim', 'Lajedo', 'Petrolina', 'Sanharó', 'Arcoverde', 'Jaboatão dos Gararapes', 'Olinda', 'Paulista', 'Santa Cruz do Capibaribe', 'Recife', 'Caruaru', 'Gravatá', 'Garanhuns', 'Bonito']\n",
      "['Santa Cruz do Capibaribe', 'Belo Jardim', 'Paulista', 'Garanhuns', 'Gravatá', 'Pesqueira', 'Arcoverde', 'Olinda', 'Jaboatão dos Gararapes', 'Sanharó', 'Recife', 'Petrolina', 'Lajedo', 'Caruaru', 'Bonito']\n",
      "['Pesqueira', 'Recife', 'Gravatá', 'Lajedo', 'Sanharó', 'Petrolina', 'Paulista', 'Bonito', 'Olinda', 'Belo Jardim', 'Santa Cruz do Capibaribe', 'Caruaru', 'Jaboatão dos Gararapes', 'Garanhuns', 'Arcoverde']\n",
      "['Belo Jardim', 'Pesqueira', 'Arcoverde', 'Olinda', 'Paulista', 'Garanhuns', 'Gravatá', 'Santa Cruz do Capibaribe', 'Caruaru', 'Bonito', 'Petrolina', 'Lajedo', 'Jaboatão dos Gararapes', 'Recife', 'Sanharó']\n",
      "['Caruaru', 'Olinda', 'Belo Jardim', 'Petrolina', 'Sanharó', 'Recife', 'Pesqueira', 'Garanhuns', 'Gravatá', 'Arcoverde', 'Bonito', 'Jaboatão dos Gararapes', 'Lajedo', 'Paulista', 'Santa Cruz do Capibaribe']\n",
      "['Olinda', 'Paulista', 'Garanhuns', 'Pesqueira', 'Petrolina', 'Gravatá', 'Recife', 'Santa Cruz do Capibaribe', 'Sanharó', 'Lajedo', 'Bonito', 'Caruaru', 'Arcoverde', 'Belo Jardim', 'Jaboatão dos Gararapes']\n",
      "['Santa Cruz do Capibaribe', 'Jaboatão dos Gararapes', 'Caruaru', 'Arcoverde', 'Sanharó', 'Recife', 'Petrolina', 'Olinda', 'Pesqueira', 'Garanhuns', 'Belo Jardim', 'Lajedo', 'Paulista', 'Gravatá', 'Bonito']\n",
      "['Petrolina', 'Lajedo', 'Pesqueira', 'Caruaru', 'Olinda', 'Belo Jardim', 'Arcoverde', 'Paulista', 'Bonito', 'Recife', 'Garanhuns', 'Gravatá', 'Jaboatão dos Gararapes', 'Sanharó', 'Santa Cruz do Capibaribe']\n",
      "['Bonito', 'Olinda', 'Arcoverde', 'Recife', 'Caruaru', 'Pesqueira', 'Paulista', 'Petrolina', 'Garanhuns', 'Lajedo', 'Gravatá', 'Jaboatão dos Gararapes', 'Belo Jardim', 'Sanharó', 'Santa Cruz do Capibaribe']\n",
      "['Arcoverde', 'Gravatá', 'Santa Cruz do Capibaribe', 'Lajedo', 'Belo Jardim', 'Bonito', 'Petrolina', 'Jaboatão dos Gararapes', 'Pesqueira', 'Paulista', 'Garanhuns', 'Caruaru', 'Sanharó', 'Olinda', 'Recife']\n",
      "['Petrolina', 'Garanhuns', 'Arcoverde', 'Gravatá', 'Sanharó', 'Pesqueira', 'Bonito', 'Olinda', 'Belo Jardim', 'Caruaru', 'Recife', 'Jaboatão dos Gararapes', 'Paulista', 'Lajedo', 'Santa Cruz do Capibaribe']\n",
      "['Garanhuns', 'Caruaru', 'Lajedo', 'Olinda', 'Bonito', 'Jaboatão dos Gararapes', 'Sanharó', 'Arcoverde', 'Gravatá', 'Paulista', 'Recife', 'Pesqueira', 'Belo Jardim', 'Santa Cruz do Capibaribe', 'Petrolina']\n",
      "['Pesqueira', 'Arcoverde', 'Belo Jardim', 'Recife', 'Paulista', 'Sanharó', 'Garanhuns', 'Jaboatão dos Gararapes', 'Lajedo', 'Santa Cruz do Capibaribe', 'Caruaru', 'Bonito', 'Gravatá', 'Petrolina', 'Olinda']\n",
      "['Caruaru', 'Jaboatão dos Gararapes', 'Bonito', 'Gravatá', 'Arcoverde', 'Olinda', 'Paulista', 'Recife', 'Pesqueira', 'Santa Cruz do Capibaribe', 'Lajedo', 'Sanharó', 'Petrolina', 'Garanhuns', 'Belo Jardim']\n",
      "['Paulista', 'Olinda', 'Santa Cruz do Capibaribe', 'Garanhuns', 'Bonito', 'Gravatá', 'Petrolina', 'Jaboatão dos Gararapes', 'Lajedo', 'Pesqueira', 'Recife', 'Sanharó', 'Caruaru', 'Arcoverde', 'Belo Jardim']\n",
      "['Garanhuns', 'Arcoverde', 'Gravatá', 'Belo Jardim', 'Recife', 'Petrolina', 'Caruaru', 'Sanharó', 'Pesqueira', 'Paulista', 'Olinda', 'Jaboatão dos Gararapes', 'Santa Cruz do Capibaribe', 'Bonito', 'Lajedo']\n",
      "['Arcoverde', 'Recife', 'Petrolina', 'Belo Jardim', 'Paulista', 'Garanhuns', 'Lajedo', 'Gravatá', 'Santa Cruz do Capibaribe', 'Bonito', 'Pesqueira', 'Caruaru', 'Jaboatão dos Gararapes', 'Olinda', 'Sanharó']\n",
      "['Paulista', 'Petrolina', 'Recife', 'Lajedo', 'Garanhuns', 'Bonito', 'Arcoverde', 'Olinda', 'Jaboatão dos Gararapes', 'Belo Jardim', 'Gravatá', 'Pesqueira', 'Sanharó', 'Caruaru', 'Santa Cruz do Capibaribe']\n",
      "['Gravatá', 'Petrolina', 'Olinda', 'Bonito', 'Lajedo', 'Belo Jardim', 'Caruaru', 'Paulista', 'Arcoverde', 'Jaboatão dos Gararapes', 'Pesqueira', 'Santa Cruz do Capibaribe', 'Recife', 'Garanhuns', 'Sanharó']\n",
      "['Arcoverde', 'Recife', 'Olinda', 'Garanhuns', 'Gravatá', 'Bonito', 'Belo Jardim', 'Jaboatão dos Gararapes', 'Petrolina', 'Lajedo', 'Santa Cruz do Capibaribe', 'Paulista', 'Caruaru', 'Sanharó', 'Pesqueira']\n",
      "['Caruaru', 'Bonito', 'Jaboatão dos Gararapes', 'Belo Jardim', 'Sanharó', 'Gravatá', 'Olinda', 'Garanhuns', 'Recife', 'Pesqueira', 'Paulista', 'Petrolina', 'Santa Cruz do Capibaribe', 'Arcoverde', 'Lajedo']\n",
      "['Belo Jardim', 'Lajedo', 'Sanharó', 'Recife', 'Petrolina', 'Jaboatão dos Gararapes', 'Olinda', 'Caruaru', 'Gravatá', 'Pesqueira', 'Santa Cruz do Capibaribe', 'Garanhuns', 'Paulista', 'Bonito', 'Arcoverde']\n",
      "['Paulista', 'Belo Jardim', 'Pesqueira', 'Lajedo', 'Santa Cruz do Capibaribe', 'Petrolina', 'Recife', 'Bonito', 'Sanharó', 'Olinda', 'Jaboatão dos Gararapes', 'Arcoverde', 'Gravatá', 'Caruaru', 'Garanhuns']\n",
      "['Sanharó', 'Bonito', 'Recife', 'Belo Jardim', 'Gravatá', 'Caruaru', 'Jaboatão dos Gararapes', 'Paulista', 'Petrolina', 'Pesqueira', 'Lajedo', 'Santa Cruz do Capibaribe', 'Garanhuns', 'Olinda', 'Arcoverde']\n",
      "['Petrolina', 'Caruaru', 'Recife', 'Sanharó', 'Belo Jardim', 'Arcoverde', 'Jaboatão dos Gararapes', 'Pesqueira', 'Paulista', 'Bonito', 'Lajedo', 'Olinda', 'Gravatá', 'Garanhuns', 'Santa Cruz do Capibaribe']\n",
      "['Arcoverde', 'Recife', 'Sanharó', 'Santa Cruz do Capibaribe', 'Pesqueira', 'Gravatá', 'Lajedo', 'Petrolina', 'Bonito', 'Paulista', 'Belo Jardim', 'Olinda', 'Jaboatão dos Gararapes', 'Garanhuns', 'Caruaru']\n",
      "['Petrolina', 'Belo Jardim', 'Paulista', 'Bonito', 'Garanhuns', 'Arcoverde', 'Pesqueira', 'Santa Cruz do Capibaribe', 'Caruaru', 'Recife', 'Gravatá', 'Lajedo', 'Sanharó', 'Olinda', 'Jaboatão dos Gararapes']\n",
      "['Lajedo', 'Garanhuns', 'Caruaru', 'Pesqueira', 'Bonito', 'Olinda', 'Santa Cruz do Capibaribe', 'Recife', 'Belo Jardim', 'Jaboatão dos Gararapes', 'Arcoverde', 'Sanharó', 'Gravatá', 'Petrolina', 'Paulista']\n",
      "['Santa Cruz do Capibaribe', 'Olinda', 'Petrolina', 'Recife', 'Arcoverde', 'Lajedo', 'Garanhuns', 'Pesqueira', 'Caruaru', 'Sanharó', 'Bonito', 'Gravatá', 'Belo Jardim', 'Paulista', 'Jaboatão dos Gararapes']\n",
      "['Bonito', 'Jaboatão dos Gararapes', 'Sanharó', 'Pesqueira', 'Garanhuns', 'Olinda', 'Gravatá', 'Petrolina', 'Recife', 'Arcoverde', 'Santa Cruz do Capibaribe', 'Caruaru', 'Lajedo', 'Paulista', 'Belo Jardim']\n",
      "['Bonito', 'Pesqueira', 'Sanharó', 'Santa Cruz do Capibaribe', 'Caruaru', 'Garanhuns', 'Petrolina', 'Jaboatão dos Gararapes', 'Belo Jardim', 'Lajedo', 'Olinda', 'Paulista', 'Gravatá', 'Arcoverde', 'Recife']\n",
      "['Santa Cruz do Capibaribe', 'Sanharó', 'Petrolina', 'Jaboatão dos Gararapes', 'Gravatá', 'Paulista', 'Belo Jardim', 'Caruaru', 'Olinda', 'Lajedo', 'Pesqueira', 'Bonito', 'Garanhuns', 'Arcoverde', 'Recife']\n",
      "['Arcoverde', 'Olinda', 'Gravatá', 'Belo Jardim', 'Caruaru', 'Lajedo', 'Petrolina', 'Bonito', 'Santa Cruz do Capibaribe', 'Pesqueira', 'Paulista', 'Recife', 'Sanharó', 'Garanhuns', 'Jaboatão dos Gararapes']\n",
      "['Recife', 'Gravatá', 'Sanharó', 'Belo Jardim', 'Caruaru', 'Paulista', 'Jaboatão dos Gararapes', 'Garanhuns', 'Pesqueira', 'Bonito', 'Arcoverde', 'Olinda', 'Santa Cruz do Capibaribe', 'Petrolina', 'Lajedo']\n",
      "['Bonito', 'Caruaru', 'Santa Cruz do Capibaribe', 'Belo Jardim', 'Pesqueira', 'Recife', 'Arcoverde', 'Olinda', 'Petrolina', 'Gravatá', 'Garanhuns', 'Jaboatão dos Gararapes', 'Lajedo', 'Paulista', 'Sanharó']\n",
      "['Gravatá', 'Garanhuns', 'Bonito', 'Recife', 'Lajedo', 'Caruaru', 'Petrolina', 'Olinda', 'Pesqueira', 'Sanharó', 'Paulista', 'Arcoverde', 'Santa Cruz do Capibaribe', 'Belo Jardim', 'Jaboatão dos Gararapes']\n",
      "['Paulista', 'Gravatá', 'Sanharó', 'Recife', 'Petrolina', 'Pesqueira', 'Olinda', 'Lajedo', 'Caruaru', 'Garanhuns', 'Santa Cruz do Capibaribe', 'Belo Jardim', 'Jaboatão dos Gararapes', 'Arcoverde', 'Bonito']\n",
      "['Bonito', 'Sanharó', 'Gravatá', 'Jaboatão dos Gararapes', 'Recife', 'Arcoverde', 'Olinda', 'Paulista', 'Santa Cruz do Capibaribe', 'Petrolina', 'Belo Jardim', 'Lajedo', 'Pesqueira', 'Garanhuns', 'Caruaru']\n",
      "['Petrolina', 'Paulista', 'Recife', 'Pesqueira', 'Santa Cruz do Capibaribe', 'Jaboatão dos Gararapes', 'Olinda', 'Sanharó', 'Belo Jardim', 'Caruaru', 'Lajedo', 'Garanhuns', 'Arcoverde', 'Bonito', 'Gravatá']\n",
      "['Santa Cruz do Capibaribe', 'Caruaru', 'Garanhuns', 'Bonito', 'Jaboatão dos Gararapes', 'Recife', 'Lajedo', 'Gravatá', 'Paulista', 'Arcoverde', 'Pesqueira', 'Petrolina', 'Olinda', 'Belo Jardim', 'Sanharó']\n",
      "['Sanharó', 'Paulista', 'Bonito', 'Recife', 'Olinda', 'Petrolina', 'Caruaru', 'Lajedo', 'Belo Jardim', 'Garanhuns', 'Gravatá', 'Arcoverde', 'Pesqueira', 'Jaboatão dos Gararapes', 'Santa Cruz do Capibaribe']\n",
      "['Caruaru', 'Arcoverde', 'Bonito', 'Paulista', 'Pesqueira', 'Belo Jardim', 'Recife', 'Jaboatão dos Gararapes', 'Sanharó', 'Lajedo', 'Olinda', 'Santa Cruz do Capibaribe', 'Gravatá', 'Petrolina', 'Garanhuns']\n",
      "['Lajedo', 'Paulista', 'Sanharó', 'Caruaru', 'Bonito', 'Jaboatão dos Gararapes', 'Gravatá', 'Pesqueira', 'Olinda', 'Garanhuns', 'Recife', 'Belo Jardim', 'Santa Cruz do Capibaribe', 'Petrolina', 'Arcoverde']\n",
      "['Petrolina', 'Garanhuns', 'Recife', 'Jaboatão dos Gararapes', 'Lajedo', 'Belo Jardim', 'Caruaru', 'Gravatá', 'Pesqueira', 'Sanharó', 'Olinda', 'Arcoverde', 'Santa Cruz do Capibaribe', 'Paulista', 'Bonito']\n",
      "['Olinda', 'Arcoverde', 'Belo Jardim', 'Jaboatão dos Gararapes', 'Paulista', 'Sanharó', 'Caruaru', 'Pesqueira', 'Garanhuns', 'Gravatá', 'Petrolina', 'Recife', 'Lajedo', 'Bonito', 'Santa Cruz do Capibaribe']\n",
      "['Jaboatão dos Gararapes', 'Recife', 'Gravatá', 'Petrolina', 'Pesqueira', 'Belo Jardim', 'Arcoverde', 'Santa Cruz do Capibaribe', 'Olinda', 'Lajedo', 'Paulista', 'Garanhuns', 'Sanharó', 'Caruaru', 'Bonito']\n",
      "['Arcoverde', 'Garanhuns', 'Recife', 'Lajedo', 'Santa Cruz do Capibaribe', 'Pesqueira', 'Paulista', 'Belo Jardim', 'Sanharó', 'Gravatá', 'Caruaru', 'Jaboatão dos Gararapes', 'Olinda', 'Bonito', 'Petrolina']\n",
      "['Paulista', 'Gravatá', 'Sanharó', 'Olinda', 'Jaboatão dos Gararapes', 'Recife', 'Belo Jardim', 'Santa Cruz do Capibaribe', 'Caruaru', 'Lajedo', 'Petrolina', 'Pesqueira', 'Garanhuns', 'Arcoverde', 'Bonito']\n",
      "['Garanhuns', 'Santa Cruz do Capibaribe', 'Sanharó', 'Jaboatão dos Gararapes', 'Lajedo', 'Paulista', 'Recife', 'Belo Jardim', 'Pesqueira', 'Olinda', 'Bonito', 'Petrolina', 'Gravatá', 'Arcoverde', 'Caruaru']\n",
      "['Lajedo', 'Sanharó', 'Belo Jardim', 'Pesqueira', 'Caruaru', 'Paulista', 'Recife', 'Arcoverde', 'Bonito', 'Petrolina', 'Garanhuns', 'Jaboatão dos Gararapes', 'Santa Cruz do Capibaribe', 'Gravatá', 'Olinda']\n",
      "['Olinda', 'Petrolina', 'Sanharó', 'Bonito', 'Garanhuns', 'Arcoverde', 'Caruaru', 'Recife', 'Gravatá', 'Pesqueira', 'Lajedo', 'Paulista', 'Santa Cruz do Capibaribe', 'Belo Jardim', 'Jaboatão dos Gararapes']\n",
      "['Garanhuns', 'Belo Jardim', 'Gravatá', 'Lajedo', 'Caruaru', 'Sanharó', 'Recife', 'Jaboatão dos Gararapes', 'Santa Cruz do Capibaribe', 'Pesqueira', 'Olinda', 'Arcoverde', 'Paulista', 'Petrolina', 'Bonito']\n",
      "['Garanhuns', 'Bonito', 'Paulista', 'Caruaru', 'Belo Jardim', 'Olinda', 'Lajedo', 'Santa Cruz do Capibaribe', 'Recife', 'Arcoverde', 'Jaboatão dos Gararapes', 'Gravatá', 'Petrolina', 'Sanharó', 'Pesqueira']\n",
      "['Olinda', 'Sanharó', 'Santa Cruz do Capibaribe', 'Paulista', 'Belo Jardim', 'Arcoverde', 'Garanhuns', 'Gravatá', 'Pesqueira', 'Lajedo', 'Jaboatão dos Gararapes', 'Bonito', 'Caruaru', 'Petrolina', 'Recife']\n",
      "['Belo Jardim', 'Recife', 'Pesqueira', 'Bonito', 'Sanharó', 'Santa Cruz do Capibaribe', 'Lajedo', 'Gravatá', 'Garanhuns', 'Arcoverde', 'Caruaru', 'Olinda', 'Petrolina', 'Jaboatão dos Gararapes', 'Paulista']\n",
      "['Santa Cruz do Capibaribe', 'Caruaru', 'Pesqueira', 'Gravatá', 'Paulista', 'Garanhuns', 'Belo Jardim', 'Petrolina', 'Arcoverde', 'Sanharó', 'Recife', 'Bonito', 'Jaboatão dos Gararapes', 'Lajedo', 'Olinda']\n",
      "['Arcoverde', 'Jaboatão dos Gararapes', 'Garanhuns', 'Belo Jardim', 'Santa Cruz do Capibaribe', 'Pesqueira', 'Caruaru', 'Paulista', 'Lajedo', 'Gravatá', 'Bonito', 'Olinda', 'Petrolina', 'Sanharó', 'Recife']\n",
      "['Lajedo', 'Garanhuns', 'Bonito', 'Gravatá', 'Belo Jardim', 'Petrolina', 'Arcoverde', 'Jaboatão dos Gararapes', 'Recife', 'Caruaru', 'Olinda', 'Pesqueira', 'Santa Cruz do Capibaribe', 'Paulista', 'Sanharó']\n",
      "['Petrolina', 'Bonito', 'Gravatá', 'Arcoverde', 'Caruaru', 'Santa Cruz do Capibaribe', 'Paulista', 'Pesqueira', 'Jaboatão dos Gararapes', 'Lajedo', 'Garanhuns', 'Olinda', 'Recife', 'Sanharó', 'Belo Jardim']\n",
      "['Arcoverde', 'Lajedo', 'Recife', 'Santa Cruz do Capibaribe', 'Olinda', 'Pesqueira', 'Gravatá', 'Sanharó', 'Bonito', 'Jaboatão dos Gararapes', 'Caruaru', 'Belo Jardim', 'Petrolina', 'Paulista', 'Garanhuns']\n",
      "['Santa Cruz do Capibaribe', 'Belo Jardim', 'Olinda', 'Arcoverde', 'Lajedo', 'Sanharó', 'Gravatá', 'Jaboatão dos Gararapes', 'Paulista', 'Petrolina', 'Garanhuns', 'Caruaru', 'Bonito', 'Recife', 'Pesqueira']\n",
      "['Garanhuns', 'Arcoverde', 'Paulista', 'Bonito', 'Pesqueira', 'Recife', 'Belo Jardim', 'Petrolina', 'Santa Cruz do Capibaribe', 'Gravatá', 'Jaboatão dos Gararapes', 'Olinda', 'Lajedo', 'Sanharó', 'Caruaru']\n",
      "['Olinda', 'Jaboatão dos Gararapes', 'Sanharó', 'Pesqueira', 'Recife', 'Lajedo', 'Santa Cruz do Capibaribe', 'Arcoverde', 'Gravatá', 'Caruaru', 'Garanhuns', 'Bonito', 'Petrolina', 'Belo Jardim', 'Paulista']\n",
      "['Santa Cruz do Capibaribe', 'Arcoverde', 'Jaboatão dos Gararapes', 'Sanharó', 'Belo Jardim', 'Caruaru', 'Lajedo', 'Petrolina', 'Olinda', 'Bonito', 'Paulista', 'Recife', 'Garanhuns', 'Pesqueira', 'Gravatá']\n",
      "['Lajedo', 'Recife', 'Olinda', 'Bonito', 'Petrolina', 'Sanharó', 'Caruaru', 'Garanhuns', 'Paulista', 'Arcoverde', 'Belo Jardim', 'Santa Cruz do Capibaribe', 'Pesqueira', 'Gravatá', 'Jaboatão dos Gararapes']\n",
      "['Paulista', 'Petrolina', 'Garanhuns', 'Olinda', 'Caruaru', 'Recife', 'Bonito', 'Santa Cruz do Capibaribe', 'Sanharó', 'Jaboatão dos Gararapes', 'Pesqueira', 'Gravatá', 'Lajedo', 'Arcoverde', 'Belo Jardim']\n",
      "['Belo Jardim', 'Recife', 'Pesqueira', 'Gravatá', 'Caruaru', 'Olinda', 'Jaboatão dos Gararapes', 'Bonito', 'Santa Cruz do Capibaribe', 'Petrolina', 'Arcoverde', 'Paulista', 'Lajedo', 'Sanharó', 'Garanhuns']\n",
      "['Jaboatão dos Gararapes', 'Lajedo', 'Olinda', 'Recife', 'Arcoverde', 'Sanharó', 'Paulista', 'Santa Cruz do Capibaribe', 'Belo Jardim', 'Petrolina', 'Gravatá', 'Bonito', 'Caruaru', 'Pesqueira', 'Garanhuns']\n",
      "['Sanharó', 'Recife', 'Arcoverde', 'Belo Jardim', 'Santa Cruz do Capibaribe', 'Caruaru', 'Lajedo', 'Petrolina', 'Jaboatão dos Gararapes', 'Paulista', 'Bonito', 'Garanhuns', 'Gravatá', 'Olinda', 'Pesqueira']\n",
      "['Petrolina', 'Pesqueira', 'Olinda', 'Garanhuns', 'Santa Cruz do Capibaribe', 'Paulista', 'Caruaru', 'Recife', 'Arcoverde', 'Gravatá', 'Jaboatão dos Gararapes', 'Bonito', 'Sanharó', 'Lajedo', 'Belo Jardim']\n",
      "['Bonito', 'Gravatá', 'Petrolina', 'Paulista', 'Lajedo', 'Santa Cruz do Capibaribe', 'Olinda', 'Jaboatão dos Gararapes', 'Belo Jardim', 'Caruaru', 'Recife', 'Garanhuns', 'Sanharó', 'Pesqueira', 'Arcoverde']\n",
      "['Recife', 'Pesqueira', 'Bonito', 'Petrolina', 'Arcoverde', 'Lajedo', 'Olinda', 'Paulista', 'Caruaru', 'Santa Cruz do Capibaribe', 'Gravatá', 'Belo Jardim', 'Garanhuns', 'Sanharó', 'Jaboatão dos Gararapes']\n",
      "['Petrolina', 'Jaboatão dos Gararapes', 'Gravatá', 'Belo Jardim', 'Olinda', 'Paulista', 'Bonito', 'Recife', 'Caruaru', 'Santa Cruz do Capibaribe', 'Arcoverde', 'Garanhuns', 'Lajedo', 'Sanharó', 'Pesqueira']\n",
      "['Gravatá', 'Lajedo', 'Arcoverde', 'Petrolina', 'Jaboatão dos Gararapes', 'Bonito', 'Garanhuns', 'Recife', 'Sanharó', 'Pesqueira', 'Caruaru', 'Olinda', 'Santa Cruz do Capibaribe', 'Belo Jardim', 'Paulista']\n",
      "['Bonito', 'Lajedo', 'Sanharó', 'Garanhuns', 'Caruaru', 'Belo Jardim', 'Santa Cruz do Capibaribe', 'Gravatá', 'Paulista', 'Recife', 'Petrolina', 'Arcoverde', 'Pesqueira', 'Olinda', 'Jaboatão dos Gararapes']\n",
      "['Jaboatão dos Gararapes', 'Petrolina', 'Olinda', 'Paulista', 'Santa Cruz do Capibaribe', 'Sanharó', 'Pesqueira', 'Caruaru', 'Gravatá', 'Bonito', 'Recife', 'Arcoverde', 'Garanhuns', 'Lajedo', 'Belo Jardim']\n",
      "['Belo Jardim', 'Olinda', 'Petrolina', 'Bonito', 'Pesqueira', 'Recife', 'Paulista', 'Caruaru', 'Sanharó', 'Arcoverde', 'Lajedo', 'Jaboatão dos Gararapes', 'Santa Cruz do Capibaribe', 'Garanhuns', 'Gravatá']\n",
      "['Belo Jardim', 'Sanharó', 'Jaboatão dos Gararapes', 'Caruaru', 'Santa Cruz do Capibaribe', 'Paulista', 'Garanhuns', 'Arcoverde', 'Recife', 'Petrolina', 'Lajedo', 'Gravatá', 'Olinda', 'Bonito', 'Pesqueira']\n",
      "['Lajedo', 'Santa Cruz do Capibaribe', 'Bonito', 'Belo Jardim', 'Recife', 'Jaboatão dos Gararapes', 'Gravatá', 'Olinda', 'Sanharó', 'Garanhuns', 'Arcoverde', 'Petrolina', 'Caruaru', 'Pesqueira', 'Paulista']\n",
      "['Gravatá', 'Petrolina', 'Jaboatão dos Gararapes', 'Paulista', 'Bonito', 'Olinda', 'Santa Cruz do Capibaribe', 'Belo Jardim', 'Pesqueira', 'Lajedo', 'Sanharó', 'Recife', 'Caruaru', 'Garanhuns', 'Arcoverde']\n",
      "['Recife', 'Caruaru', 'Petrolina', 'Belo Jardim', 'Gravatá', 'Lajedo', 'Pesqueira', 'Bonito', 'Garanhuns', 'Arcoverde', 'Paulista', 'Olinda', 'Sanharó', 'Jaboatão dos Gararapes', 'Santa Cruz do Capibaribe']\n",
      "['Caruaru', 'Recife', 'Olinda', 'Jaboatão dos Gararapes', 'Lajedo', 'Sanharó', 'Bonito', 'Arcoverde', 'Belo Jardim', 'Gravatá', 'Petrolina', 'Santa Cruz do Capibaribe', 'Pesqueira', 'Garanhuns', 'Paulista']\n",
      "['Petrolina', 'Paulista', 'Jaboatão dos Gararapes', 'Lajedo', 'Gravatá', 'Sanharó', 'Santa Cruz do Capibaribe', 'Bonito', 'Caruaru', 'Recife', 'Garanhuns', 'Olinda', 'Belo Jardim', 'Arcoverde', 'Pesqueira']\n",
      "['Olinda', 'Sanharó', 'Petrolina', 'Gravatá', 'Pesqueira', 'Recife', 'Lajedo', 'Paulista', 'Bonito', 'Jaboatão dos Gararapes', 'Belo Jardim', 'Arcoverde', 'Garanhuns', 'Santa Cruz do Capibaribe', 'Caruaru']\n",
      "['Lajedo', 'Paulista', 'Belo Jardim', 'Olinda', 'Caruaru', 'Gravatá', 'Sanharó', 'Pesqueira', 'Santa Cruz do Capibaribe', 'Jaboatão dos Gararapes', 'Recife', 'Bonito', 'Petrolina', 'Garanhuns', 'Arcoverde']\n",
      "['Bonito', 'Recife', 'Gravatá', 'Sanharó', 'Jaboatão dos Gararapes', 'Paulista', 'Caruaru', 'Santa Cruz do Capibaribe', 'Arcoverde', 'Belo Jardim', 'Petrolina', 'Garanhuns', 'Lajedo', 'Olinda', 'Pesqueira']\n",
      "['Caruaru', 'Pesqueira', 'Gravatá', 'Sanharó', 'Jaboatão dos Gararapes', 'Arcoverde', 'Bonito', 'Petrolina', 'Lajedo', 'Paulista', 'Santa Cruz do Capibaribe', 'Garanhuns', 'Recife', 'Olinda', 'Belo Jardim']\n",
      "['Lajedo', 'Petrolina', 'Pesqueira', 'Paulista', 'Recife', 'Arcoverde', 'Santa Cruz do Capibaribe', 'Garanhuns', 'Caruaru', 'Sanharó', 'Jaboatão dos Gararapes', 'Olinda', 'Gravatá', 'Bonito', 'Belo Jardim']\n",
      "['Pesqueira', 'Garanhuns', 'Caruaru', 'Petrolina', 'Recife', 'Paulista', 'Santa Cruz do Capibaribe', 'Sanharó', 'Lajedo', 'Olinda', 'Arcoverde', 'Belo Jardim', 'Bonito', 'Gravatá', 'Jaboatão dos Gararapes']\n",
      "['Gravatá', 'Caruaru', 'Olinda', 'Lajedo', 'Petrolina', 'Paulista', 'Belo Jardim', 'Recife', 'Arcoverde', 'Garanhuns', 'Jaboatão dos Gararapes', 'Bonito', 'Santa Cruz do Capibaribe', 'Pesqueira', 'Sanharó']\n",
      "['Garanhuns', 'Belo Jardim', 'Paulista', 'Bonito', 'Sanharó', 'Olinda', 'Arcoverde', 'Lajedo', 'Santa Cruz do Capibaribe', 'Petrolina', 'Recife', 'Gravatá', 'Pesqueira', 'Jaboatão dos Gararapes', 'Caruaru']\n",
      "['Bonito', 'Recife', 'Arcoverde', 'Santa Cruz do Capibaribe', 'Paulista', 'Belo Jardim', 'Garanhuns', 'Olinda', 'Sanharó', 'Jaboatão dos Gararapes', 'Caruaru', 'Lajedo', 'Gravatá', 'Pesqueira', 'Petrolina']\n",
      "['Petrolina', 'Pesqueira', 'Bonito', 'Recife', 'Sanharó', 'Belo Jardim', 'Caruaru', 'Garanhuns', 'Olinda', 'Jaboatão dos Gararapes', 'Arcoverde', 'Santa Cruz do Capibaribe', 'Paulista', 'Lajedo', 'Gravatá']\n",
      "['Jaboatão dos Gararapes', 'Paulista', 'Belo Jardim', 'Recife', 'Olinda', 'Sanharó', 'Lajedo', 'Petrolina', 'Santa Cruz do Capibaribe', 'Arcoverde', 'Garanhuns', 'Pesqueira', 'Caruaru', 'Bonito', 'Gravatá']\n",
      "['Sanharó', 'Gravatá', 'Lajedo', 'Recife', 'Petrolina', 'Olinda', 'Bonito', 'Arcoverde', 'Pesqueira', 'Paulista', 'Jaboatão dos Gararapes', 'Belo Jardim', 'Caruaru', 'Santa Cruz do Capibaribe', 'Garanhuns']\n",
      "['Arcoverde', 'Santa Cruz do Capibaribe', 'Belo Jardim', 'Caruaru', 'Paulista', 'Recife', 'Bonito', 'Petrolina', 'Pesqueira', 'Sanharó', 'Lajedo', 'Jaboatão dos Gararapes', 'Gravatá', 'Olinda', 'Garanhuns']\n",
      "['Petrolina', 'Gravatá', 'Bonito', 'Caruaru', 'Jaboatão dos Gararapes', 'Olinda', 'Santa Cruz do Capibaribe', 'Garanhuns', 'Arcoverde', 'Pesqueira', 'Lajedo', 'Belo Jardim', 'Paulista', 'Sanharó', 'Recife']\n",
      "['Lajedo', 'Jaboatão dos Gararapes', 'Santa Cruz do Capibaribe', 'Recife', 'Caruaru', 'Paulista', 'Gravatá', 'Arcoverde', 'Petrolina', 'Pesqueira', 'Belo Jardim', 'Bonito', 'Garanhuns', 'Sanharó', 'Olinda']\n",
      "\n",
      "Initial distance: 1909.400445068812\n",
      "Final distance: 1886.3558302567765\n"
     ]
    },
    {
     "data": {
      "text/plain": [
       "['Paulista',\n",
       " 'Bonito',\n",
       " 'Garanhuns',\n",
       " 'Belo Jardim',\n",
       " 'Gravatá',\n",
       " 'Olinda',\n",
       " 'Santa Cruz do Capibaribe',\n",
       " 'Petrolina',\n",
       " 'Pesqueira',\n",
       " 'Sanharó',\n",
       " 'Arcoverde',\n",
       " 'Lajedo',\n",
       " 'Caruaru',\n",
       " 'Jaboatão dos Gararapes',\n",
       " 'Recife']"
      ]
     },
     "execution_count": 576,
     "metadata": {},
     "output_type": "execute_result"
    }
   ],
   "source": [
    "\n",
    "geneticAlgorithm(population=cityList, popSize=100, eliteSize=5, mutationRate=0.01, generations=1)"
   ]
  },
  {
   "cell_type": "markdown",
   "metadata": {},
   "source": [
    "## Plot the progress"
   ]
  },
  {
   "cell_type": "markdown",
   "metadata": {},
   "source": [
    "Note, this will win run a separate GA"
   ]
  },
  {
   "cell_type": "code",
   "execution_count": 577,
   "metadata": {},
   "outputs": [],
   "source": [
    "def geneticAlgorithmPlot(population, popSize, eliteSize, mutationRate, generations):\n",
    "    pop = initialPopulation(popSize, population)\n",
    "    progress = []\n",
    "    progress.append(1 / rankRoutes(pop)[0][1])\n",
    "    print(\"Initial distance: \" + str(1 / rankRoutes(pop)[0][1]))\n",
    "    \n",
    "    for i in range(0, generations):\n",
    "        pop = nextGeneration(pop, eliteSize, mutationRate)\n",
    "        progress.append(1 / rankRoutes(pop)[0][1])\n",
    "\n",
    "    print(\"Final distance: \" + str(1 / rankRoutes(pop)[0][1]))\n",
    "    plt.plot(progress)\n",
    "    plt.ylabel('Distance')\n",
    "    plt.xlabel('Generation')\n",
    "    plt.show()"
   ]
  },
  {
   "cell_type": "markdown",
   "metadata": {},
   "source": [
    "Run the function with our assumptions to see how distance has improved in each generation"
   ]
  },
  {
   "cell_type": "code",
   "execution_count": 578,
   "metadata": {},
   "outputs": [
    {
     "name": "stdout",
     "output_type": "stream",
     "text": [
      "\n",
      "Defining the first 100 routes...\n",
      "['Jaboatão dos Gararapes', 'Paulista', 'Garanhuns', 'Pesqueira', 'Santa Cruz do Capibaribe', 'Lajedo', 'Recife', 'Bonito', 'Caruaru', 'Olinda', 'Petrolina', 'Arcoverde', 'Gravatá', 'Belo Jardim', 'Sanharó']\n",
      "['Pesqueira', 'Caruaru', 'Petrolina', 'Belo Jardim', 'Recife', 'Paulista', 'Garanhuns', 'Sanharó', 'Lajedo', 'Bonito', 'Arcoverde', 'Olinda', 'Gravatá', 'Jaboatão dos Gararapes', 'Santa Cruz do Capibaribe']\n",
      "['Paulista', 'Petrolina', 'Santa Cruz do Capibaribe', 'Arcoverde', 'Caruaru', 'Belo Jardim', 'Bonito', 'Olinda', 'Lajedo', 'Gravatá', 'Garanhuns', 'Jaboatão dos Gararapes', 'Pesqueira', 'Sanharó', 'Recife']\n",
      "['Jaboatão dos Gararapes', 'Olinda', 'Paulista', 'Pesqueira', 'Sanharó', 'Caruaru', 'Belo Jardim', 'Lajedo', 'Santa Cruz do Capibaribe', 'Gravatá', 'Arcoverde', 'Petrolina', 'Bonito', 'Recife', 'Garanhuns']\n",
      "['Garanhuns', 'Paulista', 'Pesqueira', 'Bonito', 'Belo Jardim', 'Santa Cruz do Capibaribe', 'Lajedo', 'Olinda', 'Recife', 'Caruaru', 'Jaboatão dos Gararapes', 'Sanharó', 'Petrolina', 'Gravatá', 'Arcoverde']\n",
      "['Garanhuns', 'Petrolina', 'Belo Jardim', 'Arcoverde', 'Olinda', 'Bonito', 'Recife', 'Lajedo', 'Pesqueira', 'Jaboatão dos Gararapes', 'Santa Cruz do Capibaribe', 'Gravatá', 'Caruaru', 'Paulista', 'Sanharó']\n",
      "['Pesqueira', 'Olinda', 'Belo Jardim', 'Arcoverde', 'Gravatá', 'Caruaru', 'Recife', 'Garanhuns', 'Sanharó', 'Jaboatão dos Gararapes', 'Petrolina', 'Santa Cruz do Capibaribe', 'Lajedo', 'Paulista', 'Bonito']\n",
      "['Petrolina', 'Recife', 'Sanharó', 'Olinda', 'Belo Jardim', 'Caruaru', 'Gravatá', 'Arcoverde', 'Lajedo', 'Jaboatão dos Gararapes', 'Pesqueira', 'Santa Cruz do Capibaribe', 'Paulista', 'Bonito', 'Garanhuns']\n",
      "['Bonito', 'Paulista', 'Gravatá', 'Olinda', 'Belo Jardim', 'Petrolina', 'Lajedo', 'Pesqueira', 'Garanhuns', 'Caruaru', 'Jaboatão dos Gararapes', 'Recife', 'Arcoverde', 'Santa Cruz do Capibaribe', 'Sanharó']\n",
      "['Bonito', 'Jaboatão dos Gararapes', 'Santa Cruz do Capibaribe', 'Lajedo', 'Petrolina', 'Paulista', 'Olinda', 'Sanharó', 'Gravatá', 'Recife', 'Caruaru', 'Belo Jardim', 'Garanhuns', 'Pesqueira', 'Arcoverde']\n",
      "['Jaboatão dos Gararapes', 'Sanharó', 'Bonito', 'Garanhuns', 'Olinda', 'Gravatá', 'Belo Jardim', 'Arcoverde', 'Recife', 'Pesqueira', 'Petrolina', 'Lajedo', 'Caruaru', 'Santa Cruz do Capibaribe', 'Paulista']\n",
      "['Sanharó', 'Pesqueira', 'Olinda', 'Petrolina', 'Caruaru', 'Santa Cruz do Capibaribe', 'Belo Jardim', 'Jaboatão dos Gararapes', 'Garanhuns', 'Lajedo', 'Gravatá', 'Arcoverde', 'Recife', 'Bonito', 'Paulista']\n",
      "['Jaboatão dos Gararapes', 'Pesqueira', 'Gravatá', 'Belo Jardim', 'Bonito', 'Paulista', 'Arcoverde', 'Recife', 'Sanharó', 'Santa Cruz do Capibaribe', 'Caruaru', 'Petrolina', 'Garanhuns', 'Lajedo', 'Olinda']\n",
      "['Recife', 'Santa Cruz do Capibaribe', 'Lajedo', 'Arcoverde', 'Petrolina', 'Jaboatão dos Gararapes', 'Olinda', 'Bonito', 'Garanhuns', 'Gravatá', 'Caruaru', 'Sanharó', 'Paulista', 'Belo Jardim', 'Pesqueira']\n",
      "['Garanhuns', 'Olinda', 'Arcoverde', 'Jaboatão dos Gararapes', 'Santa Cruz do Capibaribe', 'Bonito', 'Recife', 'Lajedo', 'Pesqueira', 'Paulista', 'Belo Jardim', 'Petrolina', 'Caruaru', 'Sanharó', 'Gravatá']\n",
      "['Gravatá', 'Garanhuns', 'Jaboatão dos Gararapes', 'Sanharó', 'Recife', 'Belo Jardim', 'Olinda', 'Santa Cruz do Capibaribe', 'Arcoverde', 'Paulista', 'Caruaru', 'Bonito', 'Lajedo', 'Pesqueira', 'Petrolina']\n",
      "['Gravatá', 'Sanharó', 'Jaboatão dos Gararapes', 'Garanhuns', 'Santa Cruz do Capibaribe', 'Petrolina', 'Olinda', 'Pesqueira', 'Belo Jardim', 'Paulista', 'Arcoverde', 'Recife', 'Lajedo', 'Caruaru', 'Bonito']\n",
      "['Lajedo', 'Paulista', 'Petrolina', 'Pesqueira', 'Recife', 'Sanharó', 'Jaboatão dos Gararapes', 'Gravatá', 'Olinda', 'Santa Cruz do Capibaribe', 'Belo Jardim', 'Garanhuns', 'Arcoverde', 'Bonito', 'Caruaru']\n",
      "['Petrolina', 'Belo Jardim', 'Bonito', 'Recife', 'Sanharó', 'Paulista', 'Arcoverde', 'Lajedo', 'Pesqueira', 'Caruaru', 'Gravatá', 'Santa Cruz do Capibaribe', 'Olinda', 'Jaboatão dos Gararapes', 'Garanhuns']\n",
      "['Caruaru', 'Petrolina', 'Garanhuns', 'Belo Jardim', 'Pesqueira', 'Sanharó', 'Jaboatão dos Gararapes', 'Paulista', 'Arcoverde', 'Olinda', 'Bonito', 'Recife', 'Gravatá', 'Lajedo', 'Santa Cruz do Capibaribe']\n",
      "['Lajedo', 'Gravatá', 'Belo Jardim', 'Santa Cruz do Capibaribe', 'Olinda', 'Recife', 'Sanharó', 'Garanhuns', 'Bonito', 'Arcoverde', 'Petrolina', 'Jaboatão dos Gararapes', 'Caruaru', 'Pesqueira', 'Paulista']\n",
      "['Santa Cruz do Capibaribe', 'Garanhuns', 'Gravatá', 'Recife', 'Jaboatão dos Gararapes', 'Paulista', 'Petrolina', 'Bonito', 'Sanharó', 'Arcoverde', 'Olinda', 'Pesqueira', 'Belo Jardim', 'Lajedo', 'Caruaru']\n",
      "['Pesqueira', 'Recife', 'Bonito', 'Arcoverde', 'Olinda', 'Belo Jardim', 'Paulista', 'Gravatá', 'Santa Cruz do Capibaribe', 'Jaboatão dos Gararapes', 'Sanharó', 'Garanhuns', 'Lajedo', 'Caruaru', 'Petrolina']\n",
      "['Bonito', 'Jaboatão dos Gararapes', 'Santa Cruz do Capibaribe', 'Caruaru', 'Paulista', 'Lajedo', 'Recife', 'Belo Jardim', 'Garanhuns', 'Gravatá', 'Pesqueira', 'Sanharó', 'Arcoverde', 'Petrolina', 'Olinda']\n",
      "['Petrolina', 'Pesqueira', 'Bonito', 'Olinda', 'Santa Cruz do Capibaribe', 'Gravatá', 'Arcoverde', 'Caruaru', 'Recife', 'Garanhuns', 'Jaboatão dos Gararapes', 'Sanharó', 'Lajedo', 'Belo Jardim', 'Paulista']\n",
      "['Jaboatão dos Gararapes', 'Gravatá', 'Santa Cruz do Capibaribe', 'Sanharó', 'Olinda', 'Lajedo', 'Recife', 'Pesqueira', 'Caruaru', 'Paulista', 'Bonito', 'Belo Jardim', 'Garanhuns', 'Arcoverde', 'Petrolina']\n",
      "['Sanharó', 'Garanhuns', 'Paulista', 'Santa Cruz do Capibaribe', 'Petrolina', 'Belo Jardim', 'Gravatá', 'Recife', 'Pesqueira', 'Jaboatão dos Gararapes', 'Arcoverde', 'Caruaru', 'Bonito', 'Lajedo', 'Olinda']\n",
      "['Jaboatão dos Gararapes', 'Bonito', 'Sanharó', 'Recife', 'Santa Cruz do Capibaribe', 'Olinda', 'Garanhuns', 'Petrolina', 'Belo Jardim', 'Lajedo', 'Gravatá', 'Caruaru', 'Paulista', 'Arcoverde', 'Pesqueira']\n",
      "['Paulista', 'Santa Cruz do Capibaribe', 'Petrolina', 'Recife', 'Arcoverde', 'Jaboatão dos Gararapes', 'Caruaru', 'Garanhuns', 'Bonito', 'Gravatá', 'Olinda', 'Pesqueira', 'Sanharó', 'Belo Jardim', 'Lajedo']\n",
      "['Belo Jardim', 'Jaboatão dos Gararapes', 'Recife', 'Olinda', 'Paulista', 'Gravatá', 'Garanhuns', 'Sanharó', 'Santa Cruz do Capibaribe', 'Arcoverde', 'Caruaru', 'Bonito', 'Petrolina', 'Pesqueira', 'Lajedo']\n",
      "['Recife', 'Santa Cruz do Capibaribe', 'Petrolina', 'Sanharó', 'Gravatá', 'Belo Jardim', 'Pesqueira', 'Olinda', 'Caruaru', 'Arcoverde', 'Garanhuns', 'Paulista', 'Lajedo', 'Bonito', 'Jaboatão dos Gararapes']\n",
      "['Bonito', 'Belo Jardim', 'Arcoverde', 'Paulista', 'Caruaru', 'Lajedo', 'Santa Cruz do Capibaribe', 'Garanhuns', 'Sanharó', 'Pesqueira', 'Gravatá', 'Jaboatão dos Gararapes', 'Olinda', 'Recife', 'Petrolina']\n",
      "['Belo Jardim', 'Bonito', 'Olinda', 'Petrolina', 'Arcoverde', 'Gravatá', 'Santa Cruz do Capibaribe', 'Sanharó', 'Jaboatão dos Gararapes', 'Lajedo', 'Pesqueira', 'Paulista', 'Garanhuns', 'Caruaru', 'Recife']\n",
      "['Jaboatão dos Gararapes', 'Gravatá', 'Belo Jardim', 'Petrolina', 'Paulista', 'Lajedo', 'Olinda', 'Caruaru', 'Bonito', 'Arcoverde', 'Santa Cruz do Capibaribe', 'Sanharó', 'Pesqueira', 'Garanhuns', 'Recife']\n",
      "['Lajedo', 'Paulista', 'Santa Cruz do Capibaribe', 'Gravatá', 'Belo Jardim', 'Pesqueira', 'Sanharó', 'Arcoverde', 'Bonito', 'Petrolina', 'Olinda', 'Recife', 'Jaboatão dos Gararapes', 'Caruaru', 'Garanhuns']\n",
      "['Jaboatão dos Gararapes', 'Belo Jardim', 'Caruaru', 'Santa Cruz do Capibaribe', 'Recife', 'Pesqueira', 'Garanhuns', 'Bonito', 'Paulista', 'Petrolina', 'Olinda', 'Gravatá', 'Arcoverde', 'Lajedo', 'Sanharó']\n",
      "['Garanhuns', 'Bonito', 'Lajedo', 'Sanharó', 'Pesqueira', 'Gravatá', 'Arcoverde', 'Recife', 'Olinda', 'Belo Jardim', 'Santa Cruz do Capibaribe', 'Jaboatão dos Gararapes', 'Petrolina', 'Paulista', 'Caruaru']\n",
      "['Garanhuns', 'Belo Jardim', 'Bonito', 'Pesqueira', 'Lajedo', 'Sanharó', 'Recife', 'Gravatá', 'Jaboatão dos Gararapes', 'Olinda', 'Petrolina', 'Paulista', 'Caruaru', 'Santa Cruz do Capibaribe', 'Arcoverde']\n",
      "['Sanharó', 'Olinda', 'Pesqueira', 'Jaboatão dos Gararapes', 'Caruaru', 'Garanhuns', 'Paulista', 'Santa Cruz do Capibaribe', 'Recife', 'Bonito', 'Lajedo', 'Arcoverde', 'Petrolina', 'Belo Jardim', 'Gravatá']\n",
      "['Lajedo', 'Pesqueira', 'Sanharó', 'Caruaru', 'Santa Cruz do Capibaribe', 'Gravatá', 'Petrolina', 'Bonito', 'Garanhuns', 'Olinda', 'Paulista', 'Belo Jardim', 'Recife', 'Arcoverde', 'Jaboatão dos Gararapes']\n",
      "['Arcoverde', 'Petrolina', 'Bonito', 'Recife', 'Belo Jardim', 'Sanharó', 'Gravatá', 'Paulista', 'Caruaru', 'Garanhuns', 'Santa Cruz do Capibaribe', 'Jaboatão dos Gararapes', 'Lajedo', 'Olinda', 'Pesqueira']\n",
      "['Arcoverde', 'Lajedo', 'Belo Jardim', 'Paulista', 'Olinda', 'Caruaru', 'Jaboatão dos Gararapes', 'Garanhuns', 'Gravatá', 'Petrolina', 'Santa Cruz do Capibaribe', 'Bonito', 'Sanharó', 'Recife', 'Pesqueira']\n",
      "['Pesqueira', 'Garanhuns', 'Bonito', 'Lajedo', 'Sanharó', 'Petrolina', 'Belo Jardim', 'Gravatá', 'Caruaru', 'Paulista', 'Santa Cruz do Capibaribe', 'Arcoverde', 'Recife', 'Olinda', 'Jaboatão dos Gararapes']\n",
      "['Arcoverde', 'Paulista', 'Gravatá', 'Lajedo', 'Pesqueira', 'Bonito', 'Petrolina', 'Garanhuns', 'Caruaru', 'Sanharó', 'Olinda', 'Santa Cruz do Capibaribe', 'Belo Jardim', 'Jaboatão dos Gararapes', 'Recife']\n",
      "['Bonito', 'Arcoverde', 'Gravatá', 'Santa Cruz do Capibaribe', 'Caruaru', 'Paulista', 'Garanhuns', 'Olinda', 'Lajedo', 'Sanharó', 'Recife', 'Jaboatão dos Gararapes', 'Petrolina', 'Belo Jardim', 'Pesqueira']\n",
      "['Belo Jardim', 'Gravatá', 'Bonito', 'Olinda', 'Jaboatão dos Gararapes', 'Garanhuns', 'Lajedo', 'Santa Cruz do Capibaribe', 'Recife', 'Caruaru', 'Arcoverde', 'Paulista', 'Pesqueira', 'Petrolina', 'Sanharó']\n",
      "['Recife', 'Pesqueira', 'Lajedo', 'Petrolina', 'Gravatá', 'Olinda', 'Caruaru', 'Sanharó', 'Santa Cruz do Capibaribe', 'Paulista', 'Arcoverde', 'Bonito', 'Garanhuns', 'Belo Jardim', 'Jaboatão dos Gararapes']\n",
      "['Bonito', 'Gravatá', 'Petrolina', 'Belo Jardim', 'Pesqueira', 'Lajedo', 'Arcoverde', 'Santa Cruz do Capibaribe', 'Recife', 'Jaboatão dos Gararapes', 'Sanharó', 'Paulista', 'Garanhuns', 'Olinda', 'Caruaru']\n",
      "['Olinda', 'Santa Cruz do Capibaribe', 'Petrolina', 'Paulista', 'Garanhuns', 'Sanharó', 'Gravatá', 'Belo Jardim', 'Arcoverde', 'Bonito', 'Lajedo', 'Jaboatão dos Gararapes', 'Recife', 'Caruaru', 'Pesqueira']\n",
      "['Sanharó', 'Caruaru', 'Garanhuns', 'Belo Jardim', 'Bonito', 'Lajedo', 'Olinda', 'Arcoverde', 'Santa Cruz do Capibaribe', 'Jaboatão dos Gararapes', 'Paulista', 'Gravatá', 'Recife', 'Petrolina', 'Pesqueira']\n",
      "['Garanhuns', 'Olinda', 'Gravatá', 'Paulista', 'Pesqueira', 'Arcoverde', 'Sanharó', 'Recife', 'Lajedo', 'Jaboatão dos Gararapes', 'Petrolina', 'Caruaru', 'Santa Cruz do Capibaribe', 'Belo Jardim', 'Bonito']\n",
      "['Belo Jardim', 'Arcoverde', 'Petrolina', 'Bonito', 'Recife', 'Garanhuns', 'Olinda', 'Santa Cruz do Capibaribe', 'Lajedo', 'Gravatá', 'Sanharó', 'Caruaru', 'Jaboatão dos Gararapes', 'Paulista', 'Pesqueira']\n",
      "['Belo Jardim', 'Santa Cruz do Capibaribe', 'Caruaru', 'Lajedo', 'Petrolina', 'Pesqueira', 'Jaboatão dos Gararapes', 'Sanharó', 'Arcoverde', 'Recife', 'Olinda', 'Garanhuns', 'Bonito', 'Paulista', 'Gravatá']\n",
      "['Sanharó', 'Petrolina', 'Lajedo', 'Garanhuns', 'Santa Cruz do Capibaribe', 'Olinda', 'Jaboatão dos Gararapes', 'Paulista', 'Gravatá', 'Bonito', 'Pesqueira', 'Caruaru', 'Arcoverde', 'Recife', 'Belo Jardim']\n",
      "['Jaboatão dos Gararapes', 'Olinda', 'Sanharó', 'Arcoverde', 'Petrolina', 'Lajedo', 'Recife', 'Garanhuns', 'Santa Cruz do Capibaribe', 'Belo Jardim', 'Gravatá', 'Caruaru', 'Pesqueira', 'Paulista', 'Bonito']\n",
      "['Lajedo', 'Olinda', 'Paulista', 'Garanhuns', 'Arcoverde', 'Santa Cruz do Capibaribe', 'Sanharó', 'Jaboatão dos Gararapes', 'Recife', 'Gravatá', 'Belo Jardim', 'Bonito', 'Pesqueira', 'Caruaru', 'Petrolina']\n",
      "['Caruaru', 'Santa Cruz do Capibaribe', 'Lajedo', 'Olinda', 'Belo Jardim', 'Petrolina', 'Gravatá', 'Pesqueira', 'Garanhuns', 'Bonito', 'Sanharó', 'Arcoverde', 'Paulista', 'Jaboatão dos Gararapes', 'Recife']\n",
      "['Recife', 'Paulista', 'Bonito', 'Santa Cruz do Capibaribe', 'Petrolina', 'Pesqueira', 'Garanhuns', 'Gravatá', 'Sanharó', 'Caruaru', 'Jaboatão dos Gararapes', 'Arcoverde', 'Belo Jardim', 'Lajedo', 'Olinda']\n",
      "['Santa Cruz do Capibaribe', 'Recife', 'Olinda', 'Petrolina', 'Lajedo', 'Sanharó', 'Pesqueira', 'Garanhuns', 'Caruaru', 'Bonito', 'Paulista', 'Arcoverde', 'Belo Jardim', 'Gravatá', 'Jaboatão dos Gararapes']\n",
      "['Lajedo', 'Arcoverde', 'Petrolina', 'Recife', 'Garanhuns', 'Olinda', 'Paulista', 'Belo Jardim', 'Caruaru', 'Gravatá', 'Santa Cruz do Capibaribe', 'Jaboatão dos Gararapes', 'Pesqueira', 'Sanharó', 'Bonito']\n",
      "['Gravatá', 'Lajedo', 'Santa Cruz do Capibaribe', 'Paulista', 'Bonito', 'Sanharó', 'Belo Jardim', 'Recife', 'Pesqueira', 'Arcoverde', 'Olinda', 'Jaboatão dos Gararapes', 'Petrolina', 'Garanhuns', 'Caruaru']\n",
      "['Arcoverde', 'Belo Jardim', 'Santa Cruz do Capibaribe', 'Paulista', 'Sanharó', 'Pesqueira', 'Caruaru', 'Petrolina', 'Gravatá', 'Jaboatão dos Gararapes', 'Olinda', 'Lajedo', 'Recife', 'Bonito', 'Garanhuns']\n",
      "['Bonito', 'Santa Cruz do Capibaribe', 'Paulista', 'Arcoverde', 'Sanharó', 'Pesqueira', 'Garanhuns', 'Jaboatão dos Gararapes', 'Olinda', 'Gravatá', 'Recife', 'Belo Jardim', 'Lajedo', 'Caruaru', 'Petrolina']\n",
      "['Pesqueira', 'Lajedo', 'Santa Cruz do Capibaribe', 'Gravatá', 'Bonito', 'Caruaru', 'Belo Jardim', 'Petrolina', 'Olinda', 'Arcoverde', 'Paulista', 'Recife', 'Jaboatão dos Gararapes', 'Sanharó', 'Garanhuns']\n",
      "['Santa Cruz do Capibaribe', 'Petrolina', 'Garanhuns', 'Paulista', 'Recife', 'Sanharó', 'Caruaru', 'Bonito', 'Jaboatão dos Gararapes', 'Pesqueira', 'Arcoverde', 'Belo Jardim', 'Olinda', 'Gravatá', 'Lajedo']\n",
      "['Caruaru', 'Pesqueira', 'Recife', 'Paulista', 'Santa Cruz do Capibaribe', 'Lajedo', 'Petrolina', 'Jaboatão dos Gararapes', 'Garanhuns', 'Olinda', 'Belo Jardim', 'Sanharó', 'Arcoverde', 'Gravatá', 'Bonito']\n",
      "['Garanhuns', 'Gravatá', 'Paulista', 'Bonito', 'Arcoverde', 'Pesqueira', 'Lajedo', 'Caruaru', 'Recife', 'Sanharó', 'Belo Jardim', 'Petrolina', 'Olinda', 'Jaboatão dos Gararapes', 'Santa Cruz do Capibaribe']\n",
      "['Petrolina', 'Sanharó', 'Arcoverde', 'Pesqueira', 'Jaboatão dos Gararapes', 'Recife', 'Bonito', 'Gravatá', 'Santa Cruz do Capibaribe', 'Olinda', 'Belo Jardim', 'Caruaru', 'Lajedo', 'Garanhuns', 'Paulista']\n",
      "['Garanhuns', 'Olinda', 'Lajedo', 'Bonito', 'Belo Jardim', 'Recife', 'Paulista', 'Petrolina', 'Santa Cruz do Capibaribe', 'Arcoverde', 'Gravatá', 'Jaboatão dos Gararapes', 'Sanharó', 'Caruaru', 'Pesqueira']\n",
      "['Petrolina', 'Garanhuns', 'Pesqueira', 'Bonito', 'Caruaru', 'Belo Jardim', 'Jaboatão dos Gararapes', 'Paulista', 'Gravatá', 'Recife', 'Sanharó', 'Santa Cruz do Capibaribe', 'Arcoverde', 'Lajedo', 'Olinda']\n",
      "['Paulista', 'Recife', 'Lajedo', 'Belo Jardim', 'Jaboatão dos Gararapes', 'Petrolina', 'Caruaru', 'Pesqueira', 'Olinda', 'Santa Cruz do Capibaribe', 'Sanharó', 'Garanhuns', 'Gravatá', 'Arcoverde', 'Bonito']\n",
      "['Arcoverde', 'Bonito', 'Olinda', 'Belo Jardim', 'Pesqueira', 'Lajedo', 'Jaboatão dos Gararapes', 'Petrolina', 'Paulista', 'Santa Cruz do Capibaribe', 'Garanhuns', 'Recife', 'Gravatá', 'Sanharó', 'Caruaru']\n",
      "['Petrolina', 'Bonito', 'Garanhuns', 'Paulista', 'Santa Cruz do Capibaribe', 'Caruaru', 'Sanharó', 'Recife', 'Arcoverde', 'Belo Jardim', 'Jaboatão dos Gararapes', 'Lajedo', 'Gravatá', 'Pesqueira', 'Olinda']\n",
      "['Jaboatão dos Gararapes', 'Caruaru', 'Arcoverde', 'Petrolina', 'Pesqueira', 'Sanharó', 'Paulista', 'Olinda', 'Gravatá', 'Lajedo', 'Santa Cruz do Capibaribe', 'Bonito', 'Garanhuns', 'Recife', 'Belo Jardim']\n",
      "['Lajedo', 'Santa Cruz do Capibaribe', 'Olinda', 'Gravatá', 'Jaboatão dos Gararapes', 'Arcoverde', 'Garanhuns', 'Belo Jardim', 'Sanharó', 'Recife', 'Paulista', 'Caruaru', 'Bonito', 'Petrolina', 'Pesqueira']\n",
      "['Gravatá', 'Arcoverde', 'Sanharó', 'Bonito', 'Belo Jardim', 'Olinda', 'Jaboatão dos Gararapes', 'Lajedo', 'Caruaru', 'Paulista', 'Petrolina', 'Santa Cruz do Capibaribe', 'Pesqueira', 'Recife', 'Garanhuns']\n",
      "['Sanharó', 'Arcoverde', 'Recife', 'Jaboatão dos Gararapes', 'Lajedo', 'Santa Cruz do Capibaribe', 'Pesqueira', 'Gravatá', 'Bonito', 'Garanhuns', 'Paulista', 'Petrolina', 'Olinda', 'Caruaru', 'Belo Jardim']\n",
      "['Belo Jardim', 'Jaboatão dos Gararapes', 'Bonito', 'Santa Cruz do Capibaribe', 'Paulista', 'Olinda', 'Lajedo', 'Sanharó', 'Caruaru', 'Garanhuns', 'Petrolina', 'Recife', 'Pesqueira', 'Gravatá', 'Arcoverde']\n",
      "['Arcoverde', 'Belo Jardim', 'Petrolina', 'Garanhuns', 'Recife', 'Sanharó', 'Caruaru', 'Lajedo', 'Pesqueira', 'Santa Cruz do Capibaribe', 'Gravatá', 'Paulista', 'Bonito', 'Olinda', 'Jaboatão dos Gararapes']\n",
      "['Paulista', 'Garanhuns', 'Sanharó', 'Gravatá', 'Petrolina', 'Santa Cruz do Capibaribe', 'Pesqueira', 'Olinda', 'Caruaru', 'Arcoverde', 'Jaboatão dos Gararapes', 'Belo Jardim', 'Bonito', 'Lajedo', 'Recife']\n",
      "['Caruaru', 'Garanhuns', 'Jaboatão dos Gararapes', 'Bonito', 'Belo Jardim', 'Arcoverde', 'Pesqueira', 'Santa Cruz do Capibaribe', 'Recife', 'Sanharó', 'Gravatá', 'Paulista', 'Lajedo', 'Petrolina', 'Olinda']\n",
      "['Jaboatão dos Gararapes', 'Recife', 'Pesqueira', 'Lajedo', 'Belo Jardim', 'Sanharó', 'Garanhuns', 'Santa Cruz do Capibaribe', 'Arcoverde', 'Bonito', 'Caruaru', 'Gravatá', 'Petrolina', 'Paulista', 'Olinda']\n",
      "['Sanharó', 'Garanhuns', 'Gravatá', 'Recife', 'Santa Cruz do Capibaribe', 'Caruaru', 'Petrolina', 'Pesqueira', 'Paulista', 'Jaboatão dos Gararapes', 'Arcoverde', 'Belo Jardim', 'Lajedo', 'Bonito', 'Olinda']\n",
      "['Belo Jardim', 'Gravatá', 'Bonito', 'Petrolina', 'Olinda', 'Arcoverde', 'Pesqueira', 'Jaboatão dos Gararapes', 'Lajedo', 'Paulista', 'Santa Cruz do Capibaribe', 'Garanhuns', 'Caruaru', 'Sanharó', 'Recife']\n",
      "['Olinda', 'Recife', 'Bonito', 'Caruaru', 'Lajedo', 'Gravatá', 'Paulista', 'Arcoverde', 'Jaboatão dos Gararapes', 'Santa Cruz do Capibaribe', 'Pesqueira', 'Sanharó', 'Belo Jardim', 'Petrolina', 'Garanhuns']\n",
      "['Jaboatão dos Gararapes', 'Olinda', 'Paulista', 'Belo Jardim', 'Arcoverde', 'Caruaru', 'Lajedo', 'Garanhuns', 'Recife', 'Bonito', 'Sanharó', 'Gravatá', 'Petrolina', 'Pesqueira', 'Santa Cruz do Capibaribe']\n",
      "['Olinda', 'Belo Jardim', 'Recife', 'Jaboatão dos Gararapes', 'Bonito', 'Lajedo', 'Paulista', 'Sanharó', 'Caruaru', 'Gravatá', 'Petrolina', 'Pesqueira', 'Garanhuns', 'Arcoverde', 'Santa Cruz do Capibaribe']\n",
      "['Paulista', 'Bonito', 'Lajedo', 'Caruaru', 'Olinda', 'Belo Jardim', 'Pesqueira', 'Sanharó', 'Arcoverde', 'Santa Cruz do Capibaribe', 'Recife', 'Petrolina', 'Gravatá', 'Jaboatão dos Gararapes', 'Garanhuns']\n",
      "['Olinda', 'Petrolina', 'Caruaru', 'Paulista', 'Lajedo', 'Santa Cruz do Capibaribe', 'Gravatá', 'Pesqueira', 'Bonito', 'Arcoverde', 'Jaboatão dos Gararapes', 'Recife', 'Sanharó', 'Belo Jardim', 'Garanhuns']\n",
      "['Jaboatão dos Gararapes', 'Belo Jardim', 'Santa Cruz do Capibaribe', 'Olinda', 'Lajedo', 'Pesqueira', 'Sanharó', 'Caruaru', 'Recife', 'Bonito', 'Garanhuns', 'Paulista', 'Petrolina', 'Arcoverde', 'Gravatá']\n",
      "['Arcoverde', 'Pesqueira', 'Sanharó', 'Jaboatão dos Gararapes', 'Garanhuns', 'Recife', 'Gravatá', 'Olinda', 'Belo Jardim', 'Bonito', 'Santa Cruz do Capibaribe', 'Lajedo', 'Petrolina', 'Caruaru', 'Paulista']\n",
      "['Caruaru', 'Gravatá', 'Arcoverde', 'Recife', 'Bonito', 'Santa Cruz do Capibaribe', 'Jaboatão dos Gararapes', 'Olinda', 'Lajedo', 'Pesqueira', 'Belo Jardim', 'Paulista', 'Garanhuns', 'Sanharó', 'Petrolina']\n",
      "['Olinda', 'Caruaru', 'Gravatá', 'Belo Jardim', 'Sanharó', 'Bonito', 'Garanhuns', 'Pesqueira', 'Lajedo', 'Santa Cruz do Capibaribe', 'Petrolina', 'Jaboatão dos Gararapes', 'Arcoverde', 'Paulista', 'Recife']\n",
      "['Bonito', 'Pesqueira', 'Belo Jardim', 'Lajedo', 'Sanharó', 'Petrolina', 'Recife', 'Gravatá', 'Paulista', 'Garanhuns', 'Olinda', 'Arcoverde', 'Caruaru', 'Santa Cruz do Capibaribe', 'Jaboatão dos Gararapes']\n",
      "['Pesqueira', 'Santa Cruz do Capibaribe', 'Caruaru', 'Sanharó', 'Gravatá', 'Jaboatão dos Gararapes', 'Arcoverde', 'Belo Jardim', 'Petrolina', 'Lajedo', 'Bonito', 'Recife', 'Garanhuns', 'Olinda', 'Paulista']\n",
      "['Bonito', 'Lajedo', 'Garanhuns', 'Recife', 'Gravatá', 'Arcoverde', 'Caruaru', 'Sanharó', 'Paulista', 'Pesqueira', 'Olinda', 'Petrolina', 'Belo Jardim', 'Santa Cruz do Capibaribe', 'Jaboatão dos Gararapes']\n",
      "['Paulista', 'Petrolina', 'Santa Cruz do Capibaribe', 'Olinda', 'Recife', 'Arcoverde', 'Gravatá', 'Caruaru', 'Jaboatão dos Gararapes', 'Belo Jardim', 'Pesqueira', 'Lajedo', 'Sanharó', 'Garanhuns', 'Bonito']\n",
      "['Olinda', 'Bonito', 'Recife', 'Santa Cruz do Capibaribe', 'Arcoverde', 'Gravatá', 'Jaboatão dos Gararapes', 'Caruaru', 'Pesqueira', 'Belo Jardim', 'Sanharó', 'Paulista', 'Garanhuns', 'Petrolina', 'Lajedo']\n",
      "['Gravatá', 'Sanharó', 'Caruaru', 'Arcoverde', 'Belo Jardim', 'Garanhuns', 'Jaboatão dos Gararapes', 'Olinda', 'Lajedo', 'Bonito', 'Paulista', 'Petrolina', 'Santa Cruz do Capibaribe', 'Pesqueira', 'Recife']\n",
      "['Lajedo', 'Gravatá', 'Paulista', 'Olinda', 'Pesqueira', 'Belo Jardim', 'Santa Cruz do Capibaribe', 'Garanhuns', 'Recife', 'Caruaru', 'Petrolina', 'Arcoverde', 'Jaboatão dos Gararapes', 'Sanharó', 'Bonito']\n",
      "\n",
      "Initial distance: 1841.4119550115752\n",
      "Final distance: 1356.2196232862577\n"
     ]
    },
    {
     "data": {
      "image/png": "[encoded data removed]",
      "text/plain": [
       "<Figure size 432x288 with 1 Axes>"
      ]
     },
     "metadata": {
      "needs_background": "light"
     },
     "output_type": "display_data"
    }
   ],
   "source": [
    "geneticAlgorithmPlot(population=cityList, popSize=100, eliteSize=5, mutationRate=0.01, generations=100)"
   ]
  }
 ],
 "metadata": {
  "kernelspec": {
   "display_name": "Python 3 (ipykernel)",
   "language": "python",
   "name": "python3"
  },
  "language_info": {
   "codemirror_mode": {
    "name": "ipython",
    "version": 3
   },
   "file_extension": ".py",
   "mimetype": "text/x-python",
   "name": "python",
   "nbconvert_exporter": "python",
   "pygments_lexer": "ipython3",
   "version": "3.8.0"
  }
 },
 "nbformat": 4,
 "nbformat_minor": 2
}
