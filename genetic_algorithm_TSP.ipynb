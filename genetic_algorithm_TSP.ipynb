{
 "cells": [
  {
   "cell_type": "code",
   "execution_count": 144,
   "metadata": {},
   "outputs": [],
   "source": [
    "import numpy as np, random, operator, pandas as pd, matplotlib.pyplot as plt, haversine as hs"
   ]
  },
  {
   "cell_type": "markdown",
   "metadata": {},
   "source": [
    "## Create necessary classes and functions"
   ]
  },
  {
   "cell_type": "markdown",
   "metadata": {},
   "source": [
    "Create class to handle \"cities\""
   ]
  },
  {
   "cell_type": "code",
   "execution_count": 145,
   "metadata": {},
   "outputs": [],
   "source": [
    "class City:\n",
    "    def __init__(self, name, x, y):\n",
    "        self.name = name\n",
    "        self.x = x\n",
    "        self.y = y\n",
    "    \n",
    "    def distance(self, city):\n",
    "        loc1 = (self.x, self.y)\n",
    "        loc2 = (city.x, city.y)\n",
    "        distance = hs.haversine(loc1,loc2)\n",
    "        return distance\n",
    "    \n",
    "    def get_name(self):\n",
    "        return self.name\n",
    "    \n",
    "    def __repr__(self):\n",
    "        return \"(\" + str(self.x) + \",\" + str(self.y) + \")\""
   ]
  },
  {
   "cell_type": "markdown",
   "metadata": {},
   "source": [
    "Create a fitness function"
   ]
  },
  {
   "cell_type": "code",
   "execution_count": 146,
   "metadata": {},
   "outputs": [],
   "source": [
    "class Fitness:\n",
    "    def __init__(self, route):\n",
    "        self.route = route\n",
    "        self.distance = 0\n",
    "        self.fitness= 0.0\n",
    "    \n",
    "    def routeDistance(self):\n",
    "        if self.distance ==0:\n",
    "            pathDistance = 0\n",
    "            for i in range(0, len(self.route)):\n",
    "                fromCity = self.route[i]\n",
    "                toCity = None\n",
    "                if i + 1 < len(self.route):\n",
    "                    toCity = self.route[i + 1]\n",
    "                else:\n",
    "                    toCity = self.route[0]\n",
    "                pathDistance += fromCity.distance(toCity)\n",
    "            self.distance = pathDistance\n",
    "        return self.distance\n",
    "    \n",
    "    def routeFitness(self):\n",
    "        if self.fitness == 0:\n",
    "            self.fitness = 1 / float(self.routeDistance())\n",
    "        return self.fitness"
   ]
  },
  {
   "cell_type": "markdown",
   "metadata": {},
   "source": [
    "## Create our initial population"
   ]
  },
  {
   "cell_type": "markdown",
   "metadata": {},
   "source": [
    "Route generator"
   ]
  },
  {
   "cell_type": "code",
   "execution_count": 147,
   "metadata": {},
   "outputs": [],
   "source": [
    "def createRoute(cityList):\n",
    "    route = random.sample(cityList, len(cityList))\n",
    "    route_repr = []\n",
    "    for i in range(0, len(route)):\n",
    "        route_repr.append(route[i].get_name())\n",
    "    print(route_repr)\n",
    "    return route"
   ]
  },
  {
   "cell_type": "markdown",
   "metadata": {},
   "source": [
    "Create first \"population\" (list of routes)"
   ]
  },
  {
   "cell_type": "code",
   "execution_count": 148,
   "metadata": {},
   "outputs": [],
   "source": [
    "def initialPopulation(popSize, cityList):\n",
    "    population = []\n",
    "\n",
    "    print(\"\\nDefining the first 100 routes...\")\n",
    "\n",
    "    for i in range(0, popSize):\n",
    "        population.append(createRoute(cityList))\n",
    "    \n",
    "    print()\n",
    "    return population"
   ]
  },
  {
   "cell_type": "markdown",
   "metadata": {},
   "source": [
    "## Create the genetic algorithm"
   ]
  },
  {
   "cell_type": "markdown",
   "metadata": {},
   "source": [
    "Rank individuals"
   ]
  },
  {
   "cell_type": "code",
   "execution_count": 149,
   "metadata": {},
   "outputs": [],
   "source": [
    "def rankRoutes(population):\n",
    "    fitnessResults = {}\n",
    "    for i in range(0,len(population)):\n",
    "        fitnessResults[i] = Fitness(population[i]).routeFitness()\n",
    "    return sorted(fitnessResults.items(), key = operator.itemgetter(1), reverse = True)"
   ]
  },
  {
   "cell_type": "markdown",
   "metadata": {},
   "source": [
    "Create a selection function that will be used to make the list of parent routes"
   ]
  },
  {
   "cell_type": "code",
   "execution_count": 150,
   "metadata": {},
   "outputs": [],
   "source": [
    "def selection(popRanked, eliteSize):\n",
    "    selectionResults = []\n",
    "    df = pd.DataFrame(np.array(popRanked), columns=[\"Index\",\"Fitness\"])\n",
    "    df['cum_sum'] = df.Fitness.cumsum()\n",
    "    df['cum_perc'] = 100*df.cum_sum/df.Fitness.sum()\n",
    "    \n",
    "    for i in range(0, eliteSize):\n",
    "        selectionResults.append(popRanked[i][0])\n",
    "    for i in range(0, len(popRanked) - eliteSize):\n",
    "        pick = 100*random.random()\n",
    "        for i in range(0, len(popRanked)):\n",
    "            if pick <= df.iat[i,3]:\n",
    "                selectionResults.append(popRanked[i][0])\n",
    "                break\n",
    "    return selectionResults"
   ]
  },
  {
   "cell_type": "markdown",
   "metadata": {},
   "source": [
    "Create mating pool"
   ]
  },
  {
   "cell_type": "code",
   "execution_count": 151,
   "metadata": {},
   "outputs": [],
   "source": [
    "def matingPool(population, selectionResults):\n",
    "    matingpool = []\n",
    "    for i in range(0, len(selectionResults)):\n",
    "        index = selectionResults[i]\n",
    "        matingpool.append(population[index])\n",
    "    return matingpool"
   ]
  },
  {
   "cell_type": "markdown",
   "metadata": {},
   "source": [
    "Create a crossover function for two parents to create one child"
   ]
  },
  {
   "cell_type": "code",
   "execution_count": 152,
   "metadata": {},
   "outputs": [],
   "source": [
    "def breed(parent1, parent2):\n",
    "    child = []\n",
    "    childP1 = []\n",
    "    childP2 = []\n",
    "    \n",
    "    geneA = int(random.random() * len(parent1))\n",
    "    geneB = int(random.random() * len(parent1))\n",
    "    \n",
    "    startGene = min(geneA, geneB)\n",
    "    endGene = max(geneA, geneB)\n",
    "\n",
    "    for i in range(startGene, endGene):\n",
    "        childP1.append(parent1[i])\n",
    "        \n",
    "    childP2 = [item for item in parent2 if item not in childP1]\n",
    "\n",
    "    child = childP1 + childP2\n",
    "    return child"
   ]
  },
  {
   "cell_type": "markdown",
   "metadata": {},
   "source": [
    "Create function to run crossover over full mating pool"
   ]
  },
  {
   "cell_type": "code",
   "execution_count": 153,
   "metadata": {},
   "outputs": [],
   "source": [
    "def breedPopulation(matingpool, eliteSize):\n",
    "    children = []\n",
    "    length = len(matingpool) - eliteSize\n",
    "    pool = random.sample(matingpool, len(matingpool))\n",
    "\n",
    "    for i in range(0,eliteSize):\n",
    "        children.append(matingpool[i])\n",
    "    \n",
    "    for i in range(0, length):\n",
    "        child = breed(pool[i], pool[len(matingpool)-i-1])\n",
    "        children.append(child)\n",
    "    return children"
   ]
  },
  {
   "cell_type": "markdown",
   "metadata": {},
   "source": [
    "Create function to mutate a single route"
   ]
  },
  {
   "cell_type": "code",
   "execution_count": 154,
   "metadata": {},
   "outputs": [],
   "source": [
    "def mutate(individual, mutationRate):\n",
    "    for swapped in range(len(individual)):\n",
    "        if(random.random() < mutationRate):\n",
    "            swapWith = int(random.random() * len(individual))\n",
    "            \n",
    "            city1 = individual[swapped]\n",
    "            city2 = individual[swapWith]\n",
    "            \n",
    "            individual[swapped] = city2\n",
    "            individual[swapWith] = city1\n",
    "    return individual"
   ]
  },
  {
   "cell_type": "markdown",
   "metadata": {},
   "source": [
    "Create function to run mutation over entire population"
   ]
  },
  {
   "cell_type": "code",
   "execution_count": 155,
   "metadata": {},
   "outputs": [],
   "source": [
    "def mutatePopulation(population, mutationRate):\n",
    "    mutatedPop = []\n",
    "    \n",
    "    for ind in range(0, len(population)):\n",
    "        mutatedInd = mutate(population[ind], mutationRate)\n",
    "        mutatedPop.append(mutatedInd)\n",
    "    return mutatedPop"
   ]
  },
  {
   "cell_type": "markdown",
   "metadata": {},
   "source": [
    "Put all steps together to create the next generation"
   ]
  },
  {
   "cell_type": "code",
   "execution_count": 156,
   "metadata": {},
   "outputs": [],
   "source": [
    "def nextGeneration(currentGen, eliteSize, mutationRate):\n",
    "    popRanked = rankRoutes(currentGen)\n",
    "    selectionResults = selection(popRanked, eliteSize)\n",
    "    matingpool = matingPool(currentGen, selectionResults)\n",
    "    children = breedPopulation(matingpool, eliteSize)\n",
    "    nextGeneration = mutatePopulation(children, mutationRate)\n",
    "    return nextGeneration"
   ]
  },
  {
   "cell_type": "markdown",
   "metadata": {},
   "source": [
    "Final step: create the genetic algorithm"
   ]
  },
  {
   "cell_type": "code",
   "execution_count": 157,
   "metadata": {},
   "outputs": [],
   "source": [
    "def geneticAlgorithm(population, popSize, eliteSize, mutationRate, generations):\n",
    "    pop = initialPopulation(popSize, population)\n",
    "    print(\"Initial distance: \" + str(1 / rankRoutes(pop)[0][1]))\n",
    "    \n",
    "    for i in range(0, generations):\n",
    "        pop = nextGeneration(pop, eliteSize, mutationRate)\n",
    "    \n",
    "    print(\"Final distance: \" + str(1 / rankRoutes(pop)[0][1]))\n",
    "    bestRouteIndex = rankRoutes(pop)[0][0]\n",
    "    bestRoute = pop[bestRouteIndex]\n",
    "    return bestRoute"
   ]
  },
  {
   "cell_type": "markdown",
   "metadata": {},
   "source": [
    "## Running the genetic algorithm"
   ]
  },
  {
   "cell_type": "markdown",
   "metadata": {},
   "source": [
    "Create list of cities"
   ]
  },
  {
   "cell_type": "code",
   "execution_count": 158,
   "metadata": {},
   "outputs": [],
   "source": [
    "cityList = []\n",
    "\n",
    "cityList.append(City(\"Belo Jardim\",-8.3333491, -36.4427761)) \n",
    "cityList.append(City(\"Caruaru\", -8.2808005,-36.0148396)) \n",
    "cityList.append(City(\"Recife\", -8.0421498,-35.077937)) \n",
    "cityList.append(City(\"Olinda\", -7.9965298,-34.9070475)) \n",
    "cityList.append(City(\"Petrolina\", -9.3727802,-40.5450689)) \n",
    "cityList.append(City(\"Garanhuns\", -8.9365336,-36.6418759)) \n",
    "cityList.append(City(\"Jaboatão dos Gararapes\", -8.1458702,-35.070392)) \n",
    "cityList.append(City(\"Paulista\", -7.9101902,-34.9955682)) # Paulista\n",
    "cityList.append(City(\"Santa Cruz do Capibaribe\", -7.943912,-36.2161598)) \n",
    "cityList.append(City(\"Arcoverde\", -8.4195147,-37.0764491)) \n",
    "cityList.append(City(\"Sanharó\", -8.3592448,-36.5671791)) \n",
    "cityList.append(City(\"Pesqueira\", -8.3598692,-36.7136023)) \n",
    "cityList.append(City(\"Lajedo\", -8.6744107,-36.4287359)) \n",
    "cityList.append(City(\"Bonito\", -8.486932,-35.8304625)) \n",
    "cityList.append(City(\"Gravatá\", -8.2100021,-35.5994693)) "
   ]
  },
  {
   "cell_type": "markdown",
   "metadata": {},
   "source": [
    "Run the genetic algorithm"
   ]
  },
  {
   "cell_type": "code",
   "execution_count": 159,
   "metadata": {},
   "outputs": [
    {
     "name": "stdout",
     "output_type": "stream",
     "text": [
      "\n",
      "Defining the first 100 routes...\n",
      "['Santa Cruz do Capibaribe', 'Garanhuns', 'Jaboatão dos Gararapes', 'Caruaru', 'Lajedo', 'Arcoverde', 'Belo Jardim', 'Petrolina', 'Olinda', 'Sanharó', 'Bonito', 'Paulista', 'Pesqueira', 'Recife', 'Gravatá']\n",
      "['Belo Jardim', 'Caruaru', 'Olinda', 'Garanhuns', 'Sanharó', 'Bonito', 'Lajedo', 'Recife', 'Santa Cruz do Capibaribe', 'Jaboatão dos Gararapes', 'Petrolina', 'Paulista', 'Gravatá', 'Arcoverde', 'Pesqueira']\n",
      "['Belo Jardim', 'Arcoverde', 'Sanharó', 'Garanhuns', 'Lajedo', 'Paulista', 'Bonito', 'Olinda', 'Jaboatão dos Gararapes', 'Santa Cruz do Capibaribe', 'Recife', 'Pesqueira', 'Caruaru', 'Petrolina', 'Gravatá']\n",
      "['Sanharó', 'Pesqueira', 'Jaboatão dos Gararapes', 'Lajedo', 'Recife', 'Paulista', 'Garanhuns', 'Santa Cruz do Capibaribe', 'Belo Jardim', 'Gravatá', 'Caruaru', 'Petrolina', 'Bonito', 'Olinda', 'Arcoverde']\n",
      "['Lajedo', 'Santa Cruz do Capibaribe', 'Arcoverde', 'Gravatá', 'Caruaru', 'Olinda', 'Bonito', 'Garanhuns', 'Belo Jardim', 'Recife', 'Pesqueira', 'Paulista', 'Petrolina', 'Jaboatão dos Gararapes', 'Sanharó']\n",
      "['Sanharó', 'Pesqueira', 'Recife', 'Caruaru', 'Garanhuns', 'Lajedo', 'Petrolina', 'Arcoverde', 'Belo Jardim', 'Paulista', 'Olinda', 'Gravatá', 'Santa Cruz do Capibaribe', 'Jaboatão dos Gararapes', 'Bonito']\n",
      "['Belo Jardim', 'Recife', 'Jaboatão dos Gararapes', 'Pesqueira', 'Petrolina', 'Garanhuns', 'Sanharó', 'Bonito', 'Arcoverde', 'Paulista', 'Caruaru', 'Santa Cruz do Capibaribe', 'Lajedo', 'Gravatá', 'Olinda']\n",
      "['Paulista', 'Garanhuns', 'Caruaru', 'Recife', 'Belo Jardim', 'Arcoverde', 'Olinda', 'Lajedo', 'Bonito', 'Jaboatão dos Gararapes', 'Petrolina', 'Sanharó', 'Santa Cruz do Capibaribe', 'Pesqueira', 'Gravatá']\n",
      "['Belo Jardim', 'Caruaru', 'Garanhuns', 'Bonito', 'Arcoverde', 'Petrolina', 'Jaboatão dos Gararapes', 'Pesqueira', 'Recife', 'Santa Cruz do Capibaribe', 'Lajedo', 'Gravatá', 'Olinda', 'Paulista', 'Sanharó']\n",
      "['Pesqueira', 'Belo Jardim', 'Petrolina', 'Recife', 'Arcoverde', 'Garanhuns', 'Olinda', 'Caruaru', 'Sanharó', 'Jaboatão dos Gararapes', 'Lajedo', 'Bonito', 'Santa Cruz do Capibaribe', 'Gravatá', 'Paulista']\n",
      "['Gravatá', 'Petrolina', 'Lajedo', 'Garanhuns', 'Santa Cruz do Capibaribe', 'Jaboatão dos Gararapes', 'Olinda', 'Caruaru', 'Bonito', 'Arcoverde', 'Recife', 'Sanharó', 'Pesqueira', 'Paulista', 'Belo Jardim']\n",
      "['Olinda', 'Pesqueira', 'Jaboatão dos Gararapes', 'Petrolina', 'Garanhuns', 'Santa Cruz do Capibaribe', 'Gravatá', 'Caruaru', 'Bonito', 'Lajedo', 'Paulista', 'Recife', 'Belo Jardim', 'Arcoverde', 'Sanharó']\n",
      "['Pesqueira', 'Lajedo', 'Santa Cruz do Capibaribe', 'Paulista', 'Bonito', 'Petrolina', 'Olinda', 'Gravatá', 'Belo Jardim', 'Garanhuns', 'Recife', 'Jaboatão dos Gararapes', 'Caruaru', 'Sanharó', 'Arcoverde']\n",
      "['Belo Jardim', 'Petrolina', 'Olinda', 'Garanhuns', 'Jaboatão dos Gararapes', 'Bonito', 'Arcoverde', 'Sanharó', 'Lajedo', 'Caruaru', 'Pesqueira', 'Gravatá', 'Recife', 'Paulista', 'Santa Cruz do Capibaribe']\n",
      "['Lajedo', 'Arcoverde', 'Santa Cruz do Capibaribe', 'Olinda', 'Caruaru', 'Petrolina', 'Recife', 'Gravatá', 'Sanharó', 'Jaboatão dos Gararapes', 'Belo Jardim', 'Paulista', 'Bonito', 'Garanhuns', 'Pesqueira']\n",
      "['Belo Jardim', 'Arcoverde', 'Garanhuns', 'Recife', 'Paulista', 'Gravatá', 'Caruaru', 'Jaboatão dos Gararapes', 'Pesqueira', 'Bonito', 'Santa Cruz do Capibaribe', 'Petrolina', 'Sanharó', 'Olinda', 'Lajedo']\n",
      "['Sanharó', 'Jaboatão dos Gararapes', 'Recife', 'Pesqueira', 'Paulista', 'Olinda', 'Gravatá', 'Lajedo', 'Garanhuns', 'Arcoverde', 'Santa Cruz do Capibaribe', 'Petrolina', 'Caruaru', 'Bonito', 'Belo Jardim']\n",
      "['Gravatá', 'Bonito', 'Jaboatão dos Gararapes', 'Belo Jardim', 'Petrolina', 'Recife', 'Caruaru', 'Garanhuns', 'Pesqueira', 'Olinda', 'Lajedo', 'Santa Cruz do Capibaribe', 'Arcoverde', 'Sanharó', 'Paulista']\n",
      "['Belo Jardim', 'Santa Cruz do Capibaribe', 'Pesqueira', 'Garanhuns', 'Arcoverde', 'Caruaru', 'Petrolina', 'Paulista', 'Olinda', 'Jaboatão dos Gararapes', 'Lajedo', 'Gravatá', 'Sanharó', 'Recife', 'Bonito']\n",
      "['Santa Cruz do Capibaribe', 'Garanhuns', 'Lajedo', 'Bonito', 'Gravatá', 'Sanharó', 'Jaboatão dos Gararapes', 'Petrolina', 'Recife', 'Olinda', 'Belo Jardim', 'Pesqueira', 'Caruaru', 'Arcoverde', 'Paulista']\n",
      "['Petrolina', 'Pesqueira', 'Recife', 'Garanhuns', 'Caruaru', 'Olinda', 'Gravatá', 'Paulista', 'Arcoverde', 'Santa Cruz do Capibaribe', 'Bonito', 'Belo Jardim', 'Sanharó', 'Lajedo', 'Jaboatão dos Gararapes']\n",
      "['Olinda', 'Jaboatão dos Gararapes', 'Arcoverde', 'Belo Jardim', 'Gravatá', 'Caruaru', 'Pesqueira', 'Recife', 'Lajedo', 'Santa Cruz do Capibaribe', 'Petrolina', 'Sanharó', 'Garanhuns', 'Paulista', 'Bonito']\n",
      "['Petrolina', 'Caruaru', 'Bonito', 'Recife', 'Arcoverde', 'Lajedo', 'Garanhuns', 'Belo Jardim', 'Gravatá', 'Olinda', 'Pesqueira', 'Sanharó', 'Paulista', 'Jaboatão dos Gararapes', 'Santa Cruz do Capibaribe']\n",
      "['Santa Cruz do Capibaribe', 'Olinda', 'Pesqueira', 'Recife', 'Petrolina', 'Jaboatão dos Gararapes', 'Garanhuns', 'Lajedo', 'Gravatá', 'Belo Jardim', 'Paulista', 'Arcoverde', 'Sanharó', 'Bonito', 'Caruaru']\n",
      "['Olinda', 'Lajedo', 'Paulista', 'Garanhuns', 'Arcoverde', 'Petrolina', 'Gravatá', 'Caruaru', 'Bonito', 'Recife', 'Sanharó', 'Jaboatão dos Gararapes', 'Belo Jardim', 'Pesqueira', 'Santa Cruz do Capibaribe']\n",
      "['Gravatá', 'Sanharó', 'Belo Jardim', 'Bonito', 'Olinda', 'Garanhuns', 'Pesqueira', 'Lajedo', 'Jaboatão dos Gararapes', 'Caruaru', 'Arcoverde', 'Paulista', 'Recife', 'Santa Cruz do Capibaribe', 'Petrolina']\n",
      "['Petrolina', 'Olinda', 'Gravatá', 'Pesqueira', 'Recife', 'Bonito', 'Santa Cruz do Capibaribe', 'Garanhuns', 'Caruaru', 'Belo Jardim', 'Jaboatão dos Gararapes', 'Sanharó', 'Lajedo', 'Arcoverde', 'Paulista']\n",
      "['Bonito', 'Caruaru', 'Arcoverde', 'Pesqueira', 'Santa Cruz do Capibaribe', 'Paulista', 'Lajedo', 'Recife', 'Petrolina', 'Olinda', 'Belo Jardim', 'Sanharó', 'Gravatá', 'Garanhuns', 'Jaboatão dos Gararapes']\n",
      "['Sanharó', 'Recife', 'Garanhuns', 'Paulista', 'Belo Jardim', 'Lajedo', 'Olinda', 'Gravatá', 'Petrolina', 'Jaboatão dos Gararapes', 'Pesqueira', 'Caruaru', 'Santa Cruz do Capibaribe', 'Arcoverde', 'Bonito']\n",
      "['Bonito', 'Gravatá', 'Petrolina', 'Pesqueira', 'Paulista', 'Sanharó', 'Caruaru', 'Arcoverde', 'Belo Jardim', 'Olinda', 'Jaboatão dos Gararapes', 'Lajedo', 'Garanhuns', 'Santa Cruz do Capibaribe', 'Recife']\n",
      "['Recife', 'Bonito', 'Jaboatão dos Gararapes', 'Lajedo', 'Belo Jardim', 'Olinda', 'Petrolina', 'Arcoverde', 'Paulista', 'Gravatá', 'Pesqueira', 'Sanharó', 'Garanhuns', 'Santa Cruz do Capibaribe', 'Caruaru']\n",
      "['Arcoverde', 'Santa Cruz do Capibaribe', 'Paulista', 'Caruaru', 'Pesqueira', 'Gravatá', 'Garanhuns', 'Bonito', 'Sanharó', 'Olinda', 'Recife', 'Jaboatão dos Gararapes', 'Belo Jardim', 'Petrolina', 'Lajedo']\n",
      "['Santa Cruz do Capibaribe', 'Paulista', 'Caruaru', 'Petrolina', 'Sanharó', 'Recife', 'Lajedo', 'Garanhuns', 'Bonito', 'Arcoverde', 'Gravatá', 'Jaboatão dos Gararapes', 'Olinda', 'Belo Jardim', 'Pesqueira']\n",
      "['Paulista', 'Lajedo', 'Garanhuns', 'Bonito', 'Belo Jardim', 'Caruaru', 'Gravatá', 'Petrolina', 'Sanharó', 'Arcoverde', 'Olinda', 'Santa Cruz do Capibaribe', 'Recife', 'Pesqueira', 'Jaboatão dos Gararapes']\n",
      "['Lajedo', 'Gravatá', 'Santa Cruz do Capibaribe', 'Bonito', 'Olinda', 'Paulista', 'Pesqueira', 'Garanhuns', 'Recife', 'Sanharó', 'Jaboatão dos Gararapes', 'Caruaru', 'Arcoverde', 'Petrolina', 'Belo Jardim']\n",
      "['Pesqueira', 'Lajedo', 'Bonito', 'Santa Cruz do Capibaribe', 'Recife', 'Gravatá', 'Caruaru', 'Sanharó', 'Garanhuns', 'Paulista', 'Olinda', 'Belo Jardim', 'Arcoverde', 'Petrolina', 'Jaboatão dos Gararapes']\n",
      "['Sanharó', 'Santa Cruz do Capibaribe', 'Garanhuns', 'Belo Jardim', 'Pesqueira', 'Arcoverde', 'Recife', 'Gravatá', 'Bonito', 'Lajedo', 'Paulista', 'Caruaru', 'Jaboatão dos Gararapes', 'Olinda', 'Petrolina']\n",
      "['Belo Jardim', 'Paulista', 'Sanharó', 'Bonito', 'Santa Cruz do Capibaribe', 'Arcoverde', 'Olinda', 'Caruaru', 'Lajedo', 'Pesqueira', 'Garanhuns', 'Recife', 'Jaboatão dos Gararapes', 'Petrolina', 'Gravatá']\n",
      "['Sanharó', 'Belo Jardim', 'Paulista', 'Santa Cruz do Capibaribe', 'Pesqueira', 'Garanhuns', 'Recife', 'Lajedo', 'Bonito', 'Jaboatão dos Gararapes', 'Arcoverde', 'Gravatá', 'Petrolina', 'Caruaru', 'Olinda']\n",
      "['Gravatá', 'Pesqueira', 'Sanharó', 'Caruaru', 'Garanhuns', 'Paulista', 'Bonito', 'Lajedo', 'Petrolina', 'Jaboatão dos Gararapes', 'Santa Cruz do Capibaribe', 'Olinda', 'Arcoverde', 'Recife', 'Belo Jardim']\n",
      "['Jaboatão dos Gararapes', 'Lajedo', 'Garanhuns', 'Caruaru', 'Petrolina', 'Arcoverde', 'Pesqueira', 'Olinda', 'Sanharó', 'Gravatá', 'Paulista', 'Belo Jardim', 'Santa Cruz do Capibaribe', 'Recife', 'Bonito']\n",
      "['Olinda', 'Arcoverde', 'Petrolina', 'Gravatá', 'Sanharó', 'Santa Cruz do Capibaribe', 'Recife', 'Bonito', 'Jaboatão dos Gararapes', 'Pesqueira', 'Lajedo', 'Caruaru', 'Belo Jardim', 'Paulista', 'Garanhuns']\n",
      "['Belo Jardim', 'Garanhuns', 'Arcoverde', 'Pesqueira', 'Caruaru', 'Gravatá', 'Bonito', 'Jaboatão dos Gararapes', 'Sanharó', 'Santa Cruz do Capibaribe', 'Lajedo', 'Olinda', 'Petrolina', 'Recife', 'Paulista']\n",
      "['Bonito', 'Gravatá', 'Recife', 'Lajedo', 'Paulista', 'Jaboatão dos Gararapes', 'Pesqueira', 'Arcoverde', 'Santa Cruz do Capibaribe', 'Garanhuns', 'Belo Jardim', 'Caruaru', 'Olinda', 'Petrolina', 'Sanharó']\n",
      "['Arcoverde', 'Jaboatão dos Gararapes', 'Bonito', 'Lajedo', 'Pesqueira', 'Petrolina', 'Paulista', 'Gravatá', 'Recife', 'Sanharó', 'Belo Jardim', 'Caruaru', 'Garanhuns', 'Santa Cruz do Capibaribe', 'Olinda']\n",
      "['Paulista', 'Bonito', 'Lajedo', 'Garanhuns', 'Petrolina', 'Recife', 'Belo Jardim', 'Pesqueira', 'Arcoverde', 'Olinda', 'Caruaru', 'Jaboatão dos Gararapes', 'Sanharó', 'Gravatá', 'Santa Cruz do Capibaribe']\n",
      "['Gravatá', 'Garanhuns', 'Paulista', 'Olinda', 'Arcoverde', 'Santa Cruz do Capibaribe', 'Recife', 'Bonito', 'Lajedo', 'Caruaru', 'Sanharó', 'Petrolina', 'Pesqueira', 'Jaboatão dos Gararapes', 'Belo Jardim']\n",
      "['Bonito', 'Paulista', 'Arcoverde', 'Santa Cruz do Capibaribe', 'Olinda', 'Caruaru', 'Gravatá', 'Belo Jardim', 'Sanharó', 'Recife', 'Petrolina', 'Pesqueira', 'Lajedo', 'Garanhuns', 'Jaboatão dos Gararapes']\n",
      "['Garanhuns', 'Pesqueira', 'Paulista', 'Santa Cruz do Capibaribe', 'Arcoverde', 'Lajedo', 'Bonito', 'Caruaru', 'Jaboatão dos Gararapes', 'Gravatá', 'Petrolina', 'Olinda', 'Belo Jardim', 'Sanharó', 'Recife']\n",
      "['Olinda', 'Garanhuns', 'Recife', 'Bonito', 'Caruaru', 'Sanharó', 'Belo Jardim', 'Gravatá', 'Lajedo', 'Petrolina', 'Pesqueira', 'Jaboatão dos Gararapes', 'Arcoverde', 'Paulista', 'Santa Cruz do Capibaribe']\n",
      "['Gravatá', 'Petrolina', 'Recife', 'Lajedo', 'Garanhuns', 'Santa Cruz do Capibaribe', 'Paulista', 'Jaboatão dos Gararapes', 'Caruaru', 'Sanharó', 'Pesqueira', 'Bonito', 'Olinda', 'Arcoverde', 'Belo Jardim']\n",
      "['Arcoverde', 'Bonito', 'Gravatá', 'Olinda', 'Belo Jardim', 'Sanharó', 'Pesqueira', 'Petrolina', 'Garanhuns', 'Paulista', 'Lajedo', 'Caruaru', 'Jaboatão dos Gararapes', 'Recife', 'Santa Cruz do Capibaribe']\n",
      "['Recife', 'Paulista', 'Pesqueira', 'Gravatá', 'Petrolina', 'Caruaru', 'Garanhuns', 'Lajedo', 'Sanharó', 'Santa Cruz do Capibaribe', 'Jaboatão dos Gararapes', 'Olinda', 'Belo Jardim', 'Bonito', 'Arcoverde']\n",
      "['Santa Cruz do Capibaribe', 'Caruaru', 'Paulista', 'Pesqueira', 'Gravatá', 'Bonito', 'Belo Jardim', 'Garanhuns', 'Lajedo', 'Recife', 'Petrolina', 'Arcoverde', 'Olinda', 'Jaboatão dos Gararapes', 'Sanharó']\n",
      "['Petrolina', 'Santa Cruz do Capibaribe', 'Garanhuns', 'Jaboatão dos Gararapes', 'Bonito', 'Gravatá', 'Olinda', 'Caruaru', 'Recife', 'Lajedo', 'Belo Jardim', 'Sanharó', 'Pesqueira', 'Paulista', 'Arcoverde']\n",
      "['Lajedo', 'Bonito', 'Pesqueira', 'Petrolina', 'Olinda', 'Caruaru', 'Jaboatão dos Gararapes', 'Sanharó', 'Arcoverde', 'Garanhuns', 'Belo Jardim', 'Gravatá', 'Recife', 'Paulista', 'Santa Cruz do Capibaribe']\n",
      "['Lajedo', 'Belo Jardim', 'Olinda', 'Jaboatão dos Gararapes', 'Santa Cruz do Capibaribe', 'Gravatá', 'Bonito', 'Petrolina', 'Pesqueira', 'Arcoverde', 'Recife', 'Caruaru', 'Paulista', 'Sanharó', 'Garanhuns']\n",
      "['Belo Jardim', 'Gravatá', 'Olinda', 'Recife', 'Petrolina', 'Bonito', 'Jaboatão dos Gararapes', 'Paulista', 'Arcoverde', 'Garanhuns', 'Santa Cruz do Capibaribe', 'Sanharó', 'Pesqueira', 'Lajedo', 'Caruaru']\n",
      "['Santa Cruz do Capibaribe', 'Lajedo', 'Caruaru', 'Garanhuns', 'Belo Jardim', 'Recife', 'Petrolina', 'Bonito', 'Arcoverde', 'Olinda', 'Paulista', 'Sanharó', 'Pesqueira', 'Gravatá', 'Jaboatão dos Gararapes']\n",
      "['Bonito', 'Paulista', 'Sanharó', 'Belo Jardim', 'Petrolina', 'Gravatá', 'Pesqueira', 'Arcoverde', 'Caruaru', 'Garanhuns', 'Santa Cruz do Capibaribe', 'Jaboatão dos Gararapes', 'Lajedo', 'Recife', 'Olinda']\n",
      "['Paulista', 'Sanharó', 'Garanhuns', 'Gravatá', 'Recife', 'Belo Jardim', 'Pesqueira', 'Caruaru', 'Jaboatão dos Gararapes', 'Bonito', 'Lajedo', 'Arcoverde', 'Santa Cruz do Capibaribe', 'Petrolina', 'Olinda']\n",
      "['Belo Jardim', 'Santa Cruz do Capibaribe', 'Gravatá', 'Pesqueira', 'Arcoverde', 'Jaboatão dos Gararapes', 'Lajedo', 'Garanhuns', 'Olinda', 'Bonito', 'Paulista', 'Recife', 'Petrolina', 'Caruaru', 'Sanharó']\n",
      "['Bonito', 'Gravatá', 'Caruaru', 'Recife', 'Paulista', 'Garanhuns', 'Pesqueira', 'Olinda', 'Arcoverde', 'Sanharó', 'Belo Jardim', 'Jaboatão dos Gararapes', 'Lajedo', 'Petrolina', 'Santa Cruz do Capibaribe']\n",
      "['Lajedo', 'Recife', 'Olinda', 'Jaboatão dos Gararapes', 'Pesqueira', 'Petrolina', 'Caruaru', 'Bonito', 'Arcoverde', 'Sanharó', 'Gravatá', 'Belo Jardim', 'Santa Cruz do Capibaribe', 'Garanhuns', 'Paulista']\n",
      "['Belo Jardim', 'Sanharó', 'Gravatá', 'Olinda', 'Caruaru', 'Paulista', 'Arcoverde', 'Jaboatão dos Gararapes', 'Bonito', 'Lajedo', 'Petrolina', 'Pesqueira', 'Santa Cruz do Capibaribe', 'Garanhuns', 'Recife']\n",
      "['Paulista', 'Jaboatão dos Gararapes', 'Pesqueira', 'Olinda', 'Garanhuns', 'Gravatá', 'Caruaru', 'Lajedo', 'Petrolina', 'Arcoverde', 'Bonito', 'Santa Cruz do Capibaribe', 'Sanharó', 'Belo Jardim', 'Recife']\n",
      "['Lajedo', 'Paulista', 'Bonito', 'Caruaru', 'Recife', 'Santa Cruz do Capibaribe', 'Belo Jardim', 'Petrolina', 'Arcoverde', 'Jaboatão dos Gararapes', 'Olinda', 'Garanhuns', 'Sanharó', 'Pesqueira', 'Gravatá']\n",
      "['Belo Jardim', 'Bonito', 'Pesqueira', 'Santa Cruz do Capibaribe', 'Paulista', 'Lajedo', 'Petrolina', 'Sanharó', 'Olinda', 'Caruaru', 'Garanhuns', 'Gravatá', 'Arcoverde', 'Recife', 'Jaboatão dos Gararapes']\n",
      "['Gravatá', 'Caruaru', 'Belo Jardim', 'Santa Cruz do Capibaribe', 'Recife', 'Paulista', 'Sanharó', 'Lajedo', 'Jaboatão dos Gararapes', 'Olinda', 'Bonito', 'Arcoverde', 'Pesqueira', 'Garanhuns', 'Petrolina']\n",
      "['Recife', 'Garanhuns', 'Santa Cruz do Capibaribe', 'Petrolina', 'Arcoverde', 'Bonito', 'Caruaru', 'Sanharó', 'Jaboatão dos Gararapes', 'Lajedo', 'Belo Jardim', 'Pesqueira', 'Gravatá', 'Paulista', 'Olinda']\n",
      "['Lajedo', 'Santa Cruz do Capibaribe', 'Garanhuns', 'Belo Jardim', 'Jaboatão dos Gararapes', 'Caruaru', 'Arcoverde', 'Petrolina', 'Paulista', 'Gravatá', 'Sanharó', 'Recife', 'Pesqueira', 'Olinda', 'Bonito']\n",
      "['Olinda', 'Recife', 'Belo Jardim', 'Lajedo', 'Garanhuns', 'Jaboatão dos Gararapes', 'Petrolina', 'Caruaru', 'Bonito', 'Sanharó', 'Gravatá', 'Arcoverde', 'Pesqueira', 'Paulista', 'Santa Cruz do Capibaribe']\n",
      "['Paulista', 'Caruaru', 'Arcoverde', 'Santa Cruz do Capibaribe', 'Belo Jardim', 'Bonito', 'Petrolina', 'Garanhuns', 'Recife', 'Pesqueira', 'Sanharó', 'Gravatá', 'Lajedo', 'Olinda', 'Jaboatão dos Gararapes']\n",
      "['Pesqueira', 'Belo Jardim', 'Santa Cruz do Capibaribe', 'Garanhuns', 'Petrolina', 'Recife', 'Gravatá', 'Bonito', 'Olinda', 'Jaboatão dos Gararapes', 'Arcoverde', 'Paulista', 'Caruaru', 'Sanharó', 'Lajedo']\n",
      "['Recife', 'Lajedo', 'Gravatá', 'Caruaru', 'Sanharó', 'Paulista', 'Jaboatão dos Gararapes', 'Santa Cruz do Capibaribe', 'Belo Jardim', 'Petrolina', 'Garanhuns', 'Bonito', 'Pesqueira', 'Arcoverde', 'Olinda']\n",
      "['Gravatá', 'Jaboatão dos Gararapes', 'Pesqueira', 'Garanhuns', 'Recife', 'Paulista', 'Olinda', 'Arcoverde', 'Sanharó', 'Caruaru', 'Santa Cruz do Capibaribe', 'Petrolina', 'Bonito', 'Lajedo', 'Belo Jardim']\n",
      "['Lajedo', 'Bonito', 'Sanharó', 'Olinda', 'Pesqueira', 'Jaboatão dos Gararapes', 'Petrolina', 'Belo Jardim', 'Paulista', 'Santa Cruz do Capibaribe', 'Arcoverde', 'Gravatá', 'Recife', 'Caruaru', 'Garanhuns']\n",
      "['Garanhuns', 'Arcoverde', 'Belo Jardim', 'Gravatá', 'Pesqueira', 'Olinda', 'Sanharó', 'Bonito', 'Paulista', 'Jaboatão dos Gararapes', 'Petrolina', 'Lajedo', 'Santa Cruz do Capibaribe', 'Recife', 'Caruaru']\n",
      "['Bonito', 'Paulista', 'Belo Jardim', 'Gravatá', 'Olinda', 'Lajedo', 'Caruaru', 'Pesqueira', 'Santa Cruz do Capibaribe', 'Sanharó', 'Garanhuns', 'Arcoverde', 'Petrolina', 'Jaboatão dos Gararapes', 'Recife']\n",
      "['Sanharó', 'Santa Cruz do Capibaribe', 'Caruaru', 'Belo Jardim', 'Olinda', 'Lajedo', 'Arcoverde', 'Recife', 'Paulista', 'Petrolina', 'Gravatá', 'Pesqueira', 'Garanhuns', 'Bonito', 'Jaboatão dos Gararapes']\n",
      "['Arcoverde', 'Olinda', 'Caruaru', 'Bonito', 'Lajedo', 'Recife', 'Gravatá', 'Petrolina', 'Belo Jardim', 'Pesqueira', 'Garanhuns', 'Paulista', 'Jaboatão dos Gararapes', 'Sanharó', 'Santa Cruz do Capibaribe']\n",
      "['Recife', 'Lajedo', 'Bonito', 'Arcoverde', 'Pesqueira', 'Sanharó', 'Petrolina', 'Gravatá', 'Garanhuns', 'Belo Jardim', 'Caruaru', 'Paulista', 'Santa Cruz do Capibaribe', 'Jaboatão dos Gararapes', 'Olinda']\n",
      "['Sanharó', 'Santa Cruz do Capibaribe', 'Arcoverde', 'Recife', 'Garanhuns', 'Belo Jardim', 'Olinda', 'Petrolina', 'Gravatá', 'Caruaru', 'Pesqueira', 'Paulista', 'Bonito', 'Lajedo', 'Jaboatão dos Gararapes']\n",
      "['Santa Cruz do Capibaribe', 'Bonito', 'Paulista', 'Belo Jardim', 'Recife', 'Pesqueira', 'Gravatá', 'Olinda', 'Petrolina', 'Garanhuns', 'Caruaru', 'Sanharó', 'Arcoverde', 'Lajedo', 'Jaboatão dos Gararapes']\n",
      "['Santa Cruz do Capibaribe', 'Arcoverde', 'Recife', 'Pesqueira', 'Sanharó', 'Caruaru', 'Belo Jardim', 'Jaboatão dos Gararapes', 'Olinda', 'Garanhuns', 'Lajedo', 'Paulista', 'Petrolina', 'Gravatá', 'Bonito']\n",
      "['Jaboatão dos Gararapes', 'Recife', 'Caruaru', 'Olinda', 'Bonito', 'Paulista', 'Arcoverde', 'Belo Jardim', 'Garanhuns', 'Lajedo', 'Petrolina', 'Sanharó', 'Pesqueira', 'Santa Cruz do Capibaribe', 'Gravatá']\n",
      "['Lajedo', 'Caruaru', 'Sanharó', 'Bonito', 'Santa Cruz do Capibaribe', 'Petrolina', 'Pesqueira', 'Recife', 'Olinda', 'Jaboatão dos Gararapes', 'Paulista', 'Gravatá', 'Arcoverde', 'Garanhuns', 'Belo Jardim']\n",
      "['Bonito', 'Jaboatão dos Gararapes', 'Recife', 'Santa Cruz do Capibaribe', 'Pesqueira', 'Petrolina', 'Caruaru', 'Paulista', 'Arcoverde', 'Olinda', 'Gravatá', 'Belo Jardim', 'Sanharó', 'Garanhuns', 'Lajedo']\n",
      "['Recife', 'Belo Jardim', 'Bonito', 'Arcoverde', 'Jaboatão dos Gararapes', 'Caruaru', 'Garanhuns', 'Pesqueira', 'Paulista', 'Lajedo', 'Petrolina', 'Santa Cruz do Capibaribe', 'Sanharó', 'Olinda', 'Gravatá']\n",
      "['Caruaru', 'Gravatá', 'Lajedo', 'Jaboatão dos Gararapes', 'Santa Cruz do Capibaribe', 'Garanhuns', 'Olinda', 'Sanharó', 'Recife', 'Pesqueira', 'Paulista', 'Belo Jardim', 'Petrolina', 'Bonito', 'Arcoverde']\n",
      "['Olinda', 'Petrolina', 'Gravatá', 'Santa Cruz do Capibaribe', 'Paulista', 'Garanhuns', 'Recife', 'Pesqueira', 'Caruaru', 'Sanharó', 'Belo Jardim', 'Arcoverde', 'Jaboatão dos Gararapes', 'Bonito', 'Lajedo']\n",
      "['Sanharó', 'Petrolina', 'Paulista', 'Recife', 'Belo Jardim', 'Jaboatão dos Gararapes', 'Olinda', 'Arcoverde', 'Gravatá', 'Pesqueira', 'Lajedo', 'Caruaru', 'Garanhuns', 'Bonito', 'Santa Cruz do Capibaribe']\n",
      "['Recife', 'Arcoverde', 'Sanharó', 'Lajedo', 'Caruaru', 'Belo Jardim', 'Bonito', 'Pesqueira', 'Olinda', 'Jaboatão dos Gararapes', 'Gravatá', 'Garanhuns', 'Santa Cruz do Capibaribe', 'Paulista', 'Petrolina']\n",
      "['Garanhuns', 'Arcoverde', 'Paulista', 'Caruaru', 'Sanharó', 'Lajedo', 'Santa Cruz do Capibaribe', 'Gravatá', 'Pesqueira', 'Belo Jardim', 'Recife', 'Bonito', 'Petrolina', 'Olinda', 'Jaboatão dos Gararapes']\n",
      "['Pesqueira', 'Arcoverde', 'Paulista', 'Caruaru', 'Santa Cruz do Capibaribe', 'Olinda', 'Sanharó', 'Lajedo', 'Garanhuns', 'Gravatá', 'Bonito', 'Jaboatão dos Gararapes', 'Petrolina', 'Belo Jardim', 'Recife']\n",
      "['Pesqueira', 'Bonito', 'Caruaru', 'Garanhuns', 'Gravatá', 'Belo Jardim', 'Petrolina', 'Sanharó', 'Santa Cruz do Capibaribe', 'Olinda', 'Recife', 'Paulista', 'Jaboatão dos Gararapes', 'Arcoverde', 'Lajedo']\n",
      "['Recife', 'Olinda', 'Belo Jardim', 'Santa Cruz do Capibaribe', 'Arcoverde', 'Jaboatão dos Gararapes', 'Gravatá', 'Petrolina', 'Sanharó', 'Pesqueira', 'Caruaru', 'Garanhuns', 'Bonito', 'Lajedo', 'Paulista']\n",
      "['Belo Jardim', 'Olinda', 'Paulista', 'Lajedo', 'Arcoverde', 'Pesqueira', 'Jaboatão dos Gararapes', 'Recife', 'Petrolina', 'Gravatá', 'Bonito', 'Caruaru', 'Garanhuns', 'Santa Cruz do Capibaribe', 'Sanharó']\n",
      "['Garanhuns', 'Belo Jardim', 'Bonito', 'Olinda', 'Petrolina', 'Gravatá', 'Caruaru', 'Paulista', 'Arcoverde', 'Sanharó', 'Recife', 'Jaboatão dos Gararapes', 'Santa Cruz do Capibaribe', 'Pesqueira', 'Lajedo']\n",
      "['Pesqueira', 'Lajedo', 'Jaboatão dos Gararapes', 'Gravatá', 'Bonito', 'Garanhuns', 'Paulista', 'Santa Cruz do Capibaribe', 'Arcoverde', 'Sanharó', 'Petrolina', 'Recife', 'Belo Jardim', 'Caruaru', 'Olinda']\n",
      "\n",
      "Initial distance: 1894.7328970997053\n",
      "Final distance: 1699.2012695021094\n"
     ]
    },
    {
     "data": {
      "text/plain": [
       "[(-8.9365336,-36.6418759),\n",
       " (-8.6744107,-36.4287359),\n",
       " (-9.3727802,-40.5450689),\n",
       " (-8.4195147,-37.0764491),\n",
       " (-8.3333491,-36.4427761),\n",
       " (-7.9101902,-34.9955682),\n",
       " (-7.9965298,-34.9070475),\n",
       " (-8.1458702,-35.070392),\n",
       " (-8.0421498,-35.077937),\n",
       " (-8.2808005,-36.0148396),\n",
       " (-8.486932,-35.8304625),\n",
       " (-8.3592448,-36.5671791),\n",
       " (-8.3598692,-36.7136023),\n",
       " (-7.943912,-36.2161598),\n",
       " (-8.2100021,-35.5994693)]"
      ]
     },
     "execution_count": 159,
     "metadata": {},
     "output_type": "execute_result"
    }
   ],
   "source": [
    "geneticAlgorithm(population=cityList, popSize=100, eliteSize=10, mutationRate=0.01, generations=2)"
   ]
  },
  {
   "cell_type": "markdown",
   "metadata": {},
   "source": [
    "## Plot the progress"
   ]
  },
  {
   "cell_type": "markdown",
   "metadata": {},
   "source": [
    "Note, this will win run a separate GA"
   ]
  },
  {
   "cell_type": "code",
   "execution_count": 160,
   "metadata": {},
   "outputs": [],
   "source": [
    "def geneticAlgorithmPlot(population, popSize, eliteSize, mutationRate, generations):\n",
    "    pop = initialPopulation(popSize, population)\n",
    "    progress = []\n",
    "    progress.append(1 / rankRoutes(pop)[0][1])\n",
    "    \n",
    "    for i in range(0, generations):\n",
    "        pop = nextGeneration(pop, eliteSize, mutationRate)\n",
    "        progress.append(1 / rankRoutes(pop)[0][1])\n",
    "    \n",
    "    plt.plot(progress)\n",
    "    plt.ylabel('Distance')\n",
    "    plt.xlabel('Generation')\n",
    "    plt.show()"
   ]
  },
  {
   "cell_type": "markdown",
   "metadata": {},
   "source": [
    "Run the function with our assumptions to see how distance has improved in each generation"
   ]
  },
  {
   "cell_type": "code",
   "execution_count": 161,
   "metadata": {},
   "outputs": [
    {
     "name": "stdout",
     "output_type": "stream",
     "text": [
      "\n",
      "Defining the first 100 routes...\n",
      "['Olinda', 'Jaboatão dos Gararapes', 'Garanhuns', 'Santa Cruz do Capibaribe', 'Lajedo', 'Belo Jardim', 'Recife', 'Paulista', 'Caruaru', 'Gravatá', 'Arcoverde', 'Bonito', 'Petrolina', 'Sanharó', 'Pesqueira']\n",
      "['Garanhuns', 'Caruaru', 'Sanharó', 'Arcoverde', 'Petrolina', 'Jaboatão dos Gararapes', 'Santa Cruz do Capibaribe', 'Recife', 'Bonito', 'Lajedo', 'Pesqueira', 'Paulista', 'Gravatá', 'Belo Jardim', 'Olinda']\n",
      "['Bonito', 'Belo Jardim', 'Petrolina', 'Recife', 'Santa Cruz do Capibaribe', 'Caruaru', 'Paulista', 'Olinda', 'Garanhuns', 'Pesqueira', 'Lajedo', 'Jaboatão dos Gararapes', 'Arcoverde', 'Gravatá', 'Sanharó']\n",
      "['Belo Jardim', 'Olinda', 'Petrolina', 'Santa Cruz do Capibaribe', 'Pesqueira', 'Gravatá', 'Lajedo', 'Jaboatão dos Gararapes', 'Sanharó', 'Bonito', 'Garanhuns', 'Paulista', 'Arcoverde', 'Recife', 'Caruaru']\n",
      "['Paulista', 'Petrolina', 'Recife', 'Gravatá', 'Sanharó', 'Jaboatão dos Gararapes', 'Caruaru', 'Lajedo', 'Arcoverde', 'Belo Jardim', 'Olinda', 'Bonito', 'Santa Cruz do Capibaribe', 'Pesqueira', 'Garanhuns']\n",
      "['Caruaru', 'Jaboatão dos Gararapes', 'Arcoverde', 'Garanhuns', 'Gravatá', 'Olinda', 'Belo Jardim', 'Recife', 'Paulista', 'Pesqueira', 'Petrolina', 'Santa Cruz do Capibaribe', 'Bonito', 'Sanharó', 'Lajedo']\n",
      "['Pesqueira', 'Belo Jardim', 'Olinda', 'Arcoverde', 'Garanhuns', 'Santa Cruz do Capibaribe', 'Petrolina', 'Jaboatão dos Gararapes', 'Recife', 'Sanharó', 'Bonito', 'Lajedo', 'Caruaru', 'Gravatá', 'Paulista']\n",
      "['Arcoverde', 'Sanharó', 'Recife', 'Jaboatão dos Gararapes', 'Pesqueira', 'Caruaru', 'Petrolina', 'Belo Jardim', 'Garanhuns', 'Paulista', 'Olinda', 'Santa Cruz do Capibaribe', 'Lajedo', 'Bonito', 'Gravatá']\n",
      "['Lajedo', 'Sanharó', 'Jaboatão dos Gararapes', 'Arcoverde', 'Caruaru', 'Recife', 'Santa Cruz do Capibaribe', 'Paulista', 'Petrolina', 'Bonito', 'Pesqueira', 'Garanhuns', 'Gravatá', 'Belo Jardim', 'Olinda']\n",
      "['Sanharó', 'Garanhuns', 'Santa Cruz do Capibaribe', 'Paulista', 'Belo Jardim', 'Olinda', 'Arcoverde', 'Petrolina', 'Caruaru', 'Lajedo', 'Gravatá', 'Pesqueira', 'Jaboatão dos Gararapes', 'Bonito', 'Recife']\n",
      "['Gravatá', 'Caruaru', 'Garanhuns', 'Pesqueira', 'Olinda', 'Recife', 'Sanharó', 'Petrolina', 'Santa Cruz do Capibaribe', 'Belo Jardim', 'Lajedo', 'Paulista', 'Jaboatão dos Gararapes', 'Bonito', 'Arcoverde']\n",
      "['Jaboatão dos Gararapes', 'Arcoverde', 'Garanhuns', 'Belo Jardim', 'Pesqueira', 'Caruaru', 'Bonito', 'Petrolina', 'Paulista', 'Olinda', 'Sanharó', 'Santa Cruz do Capibaribe', 'Recife', 'Lajedo', 'Gravatá']\n",
      "['Petrolina', 'Belo Jardim', 'Bonito', 'Arcoverde', 'Gravatá', 'Santa Cruz do Capibaribe', 'Recife', 'Lajedo', 'Caruaru', 'Paulista', 'Olinda', 'Pesqueira', 'Jaboatão dos Gararapes', 'Garanhuns', 'Sanharó']\n",
      "['Sanharó', 'Bonito', 'Belo Jardim', 'Recife', 'Jaboatão dos Gararapes', 'Caruaru', 'Olinda', 'Santa Cruz do Capibaribe', 'Garanhuns', 'Gravatá', 'Arcoverde', 'Pesqueira', 'Petrolina', 'Paulista', 'Lajedo']\n",
      "['Belo Jardim', 'Olinda', 'Paulista', 'Santa Cruz do Capibaribe', 'Garanhuns', 'Gravatá', 'Pesqueira', 'Sanharó', 'Petrolina', 'Arcoverde', 'Bonito', 'Lajedo', 'Recife', 'Jaboatão dos Gararapes', 'Caruaru']\n",
      "['Bonito', 'Garanhuns', 'Pesqueira', 'Santa Cruz do Capibaribe', 'Jaboatão dos Gararapes', 'Recife', 'Belo Jardim', 'Gravatá', 'Petrolina', 'Olinda', 'Caruaru', 'Lajedo', 'Sanharó', 'Paulista', 'Arcoverde']\n",
      "['Petrolina', 'Pesqueira', 'Lajedo', 'Jaboatão dos Gararapes', 'Belo Jardim', 'Paulista', 'Santa Cruz do Capibaribe', 'Sanharó', 'Gravatá', 'Recife', 'Caruaru', 'Garanhuns', 'Bonito', 'Olinda', 'Arcoverde']\n",
      "['Sanharó', 'Garanhuns', 'Caruaru', 'Belo Jardim', 'Lajedo', 'Arcoverde', 'Olinda', 'Petrolina', 'Bonito', 'Jaboatão dos Gararapes', 'Paulista', 'Gravatá', 'Santa Cruz do Capibaribe', 'Pesqueira', 'Recife']\n",
      "['Bonito', 'Jaboatão dos Gararapes', 'Paulista', 'Olinda', 'Recife', 'Lajedo', 'Sanharó', 'Caruaru', 'Gravatá', 'Petrolina', 'Arcoverde', 'Pesqueira', 'Santa Cruz do Capibaribe', 'Garanhuns', 'Belo Jardim']\n",
      "['Recife', 'Olinda', 'Paulista', 'Garanhuns', 'Sanharó', 'Santa Cruz do Capibaribe', 'Pesqueira', 'Gravatá', 'Bonito', 'Belo Jardim', 'Arcoverde', 'Jaboatão dos Gararapes', 'Lajedo', 'Caruaru', 'Petrolina']\n",
      "['Garanhuns', 'Arcoverde', 'Pesqueira', 'Gravatá', 'Lajedo', 'Bonito', 'Santa Cruz do Capibaribe', 'Petrolina', 'Caruaru', 'Paulista', 'Belo Jardim', 'Sanharó', 'Olinda', 'Recife', 'Jaboatão dos Gararapes']\n",
      "['Gravatá', 'Garanhuns', 'Caruaru', 'Belo Jardim', 'Petrolina', 'Pesqueira', 'Sanharó', 'Paulista', 'Santa Cruz do Capibaribe', 'Bonito', 'Lajedo', 'Jaboatão dos Gararapes', 'Arcoverde', 'Recife', 'Olinda']\n",
      "['Belo Jardim', 'Pesqueira', 'Santa Cruz do Capibaribe', 'Lajedo', 'Paulista', 'Caruaru', 'Recife', 'Sanharó', 'Olinda', 'Petrolina', 'Garanhuns', 'Bonito', 'Gravatá', 'Jaboatão dos Gararapes', 'Arcoverde']\n",
      "['Pesqueira', 'Gravatá', 'Petrolina', 'Sanharó', 'Belo Jardim', 'Recife', 'Arcoverde', 'Jaboatão dos Gararapes', 'Paulista', 'Olinda', 'Caruaru', 'Garanhuns', 'Lajedo', 'Santa Cruz do Capibaribe', 'Bonito']\n",
      "['Petrolina', 'Belo Jardim', 'Paulista', 'Jaboatão dos Gararapes', 'Lajedo', 'Gravatá', 'Recife', 'Garanhuns', 'Santa Cruz do Capibaribe', 'Bonito', 'Sanharó', 'Pesqueira', 'Caruaru', 'Arcoverde', 'Olinda']\n",
      "['Santa Cruz do Capibaribe', 'Caruaru', 'Petrolina', 'Paulista', 'Pesqueira', 'Recife', 'Belo Jardim', 'Olinda', 'Arcoverde', 'Bonito', 'Lajedo', 'Garanhuns', 'Jaboatão dos Gararapes', 'Sanharó', 'Gravatá']\n",
      "['Olinda', 'Belo Jardim', 'Santa Cruz do Capibaribe', 'Sanharó', 'Pesqueira', 'Gravatá', 'Petrolina', 'Garanhuns', 'Bonito', 'Paulista', 'Jaboatão dos Gararapes', 'Lajedo', 'Caruaru', 'Recife', 'Arcoverde']\n",
      "['Bonito', 'Gravatá', 'Arcoverde', 'Petrolina', 'Pesqueira', 'Jaboatão dos Gararapes', 'Caruaru', 'Lajedo', 'Belo Jardim', 'Paulista', 'Garanhuns', 'Recife', 'Olinda', 'Sanharó', 'Santa Cruz do Capibaribe']\n",
      "['Arcoverde', 'Jaboatão dos Gararapes', 'Lajedo', 'Gravatá', 'Petrolina', 'Sanharó', 'Bonito', 'Olinda', 'Belo Jardim', 'Santa Cruz do Capibaribe', 'Pesqueira', 'Paulista', 'Caruaru', 'Garanhuns', 'Recife']\n",
      "['Paulista', 'Petrolina', 'Belo Jardim', 'Caruaru', 'Garanhuns', 'Gravatá', 'Olinda', 'Pesqueira', 'Bonito', 'Lajedo', 'Recife', 'Jaboatão dos Gararapes', 'Arcoverde', 'Santa Cruz do Capibaribe', 'Sanharó']\n",
      "['Pesqueira', 'Caruaru', 'Gravatá', 'Garanhuns', 'Belo Jardim', 'Lajedo', 'Jaboatão dos Gararapes', 'Olinda', 'Recife', 'Santa Cruz do Capibaribe', 'Bonito', 'Sanharó', 'Paulista', 'Petrolina', 'Arcoverde']\n",
      "['Sanharó', 'Santa Cruz do Capibaribe', 'Petrolina', 'Bonito', 'Belo Jardim', 'Recife', 'Jaboatão dos Gararapes', 'Arcoverde', 'Gravatá', 'Olinda', 'Garanhuns', 'Lajedo', 'Caruaru', 'Paulista', 'Pesqueira']\n",
      "['Gravatá', 'Olinda', 'Lajedo', 'Bonito', 'Recife', 'Paulista', 'Arcoverde', 'Petrolina', 'Caruaru', 'Garanhuns', 'Santa Cruz do Capibaribe', 'Jaboatão dos Gararapes', 'Sanharó', 'Pesqueira', 'Belo Jardim']\n",
      "['Sanharó', 'Caruaru', 'Belo Jardim', 'Pesqueira', 'Olinda', 'Petrolina', 'Bonito', 'Lajedo', 'Santa Cruz do Capibaribe', 'Recife', 'Paulista', 'Jaboatão dos Gararapes', 'Garanhuns', 'Gravatá', 'Arcoverde']\n",
      "['Olinda', 'Petrolina', 'Sanharó', 'Belo Jardim', 'Bonito', 'Recife', 'Pesqueira', 'Santa Cruz do Capibaribe', 'Lajedo', 'Paulista', 'Arcoverde', 'Gravatá', 'Garanhuns', 'Jaboatão dos Gararapes', 'Caruaru']\n",
      "['Belo Jardim', 'Gravatá', 'Recife', 'Sanharó', 'Arcoverde', 'Garanhuns', 'Bonito', 'Caruaru', 'Petrolina', 'Pesqueira', 'Jaboatão dos Gararapes', 'Santa Cruz do Capibaribe', 'Lajedo', 'Olinda', 'Paulista']\n",
      "['Gravatá', 'Jaboatão dos Gararapes', 'Olinda', 'Belo Jardim', 'Caruaru', 'Garanhuns', 'Sanharó', 'Paulista', 'Lajedo', 'Pesqueira', 'Bonito', 'Recife', 'Petrolina', 'Arcoverde', 'Santa Cruz do Capibaribe']\n",
      "['Santa Cruz do Capibaribe', 'Lajedo', 'Pesqueira', 'Arcoverde', 'Sanharó', 'Paulista', 'Belo Jardim', 'Jaboatão dos Gararapes', 'Gravatá', 'Bonito', 'Garanhuns', 'Caruaru', 'Olinda', 'Recife', 'Petrolina']\n",
      "['Garanhuns', 'Gravatá', 'Pesqueira', 'Jaboatão dos Gararapes', 'Bonito', 'Paulista', 'Recife', 'Santa Cruz do Capibaribe', 'Arcoverde', 'Sanharó', 'Belo Jardim', 'Petrolina', 'Lajedo', 'Olinda', 'Caruaru']\n",
      "['Belo Jardim', 'Paulista', 'Arcoverde', 'Caruaru', 'Garanhuns', 'Bonito', 'Olinda', 'Petrolina', 'Pesqueira', 'Santa Cruz do Capibaribe', 'Lajedo', 'Jaboatão dos Gararapes', 'Gravatá', 'Sanharó', 'Recife']\n",
      "['Bonito', 'Petrolina', 'Belo Jardim', 'Arcoverde', 'Garanhuns', 'Gravatá', 'Lajedo', 'Jaboatão dos Gararapes', 'Santa Cruz do Capibaribe', 'Paulista', 'Recife', 'Caruaru', 'Sanharó', 'Olinda', 'Pesqueira']\n",
      "['Lajedo', 'Jaboatão dos Gararapes', 'Belo Jardim', 'Santa Cruz do Capibaribe', 'Gravatá', 'Bonito', 'Paulista', 'Pesqueira', 'Recife', 'Caruaru', 'Petrolina', 'Olinda', 'Arcoverde', 'Garanhuns', 'Sanharó']\n",
      "['Olinda', 'Sanharó', 'Gravatá', 'Recife', 'Santa Cruz do Capibaribe', 'Bonito', 'Paulista', 'Caruaru', 'Petrolina', 'Garanhuns', 'Lajedo', 'Jaboatão dos Gararapes', 'Pesqueira', 'Arcoverde', 'Belo Jardim']\n",
      "['Gravatá', 'Lajedo', 'Jaboatão dos Gararapes', 'Belo Jardim', 'Caruaru', 'Olinda', 'Bonito', 'Pesqueira', 'Sanharó', 'Paulista', 'Garanhuns', 'Santa Cruz do Capibaribe', 'Recife', 'Arcoverde', 'Petrolina']\n",
      "['Arcoverde', 'Santa Cruz do Capibaribe', 'Gravatá', 'Caruaru', 'Paulista', 'Sanharó', 'Garanhuns', 'Pesqueira', 'Petrolina', 'Lajedo', 'Jaboatão dos Gararapes', 'Bonito', 'Belo Jardim', 'Recife', 'Olinda']\n",
      "['Santa Cruz do Capibaribe', 'Lajedo', 'Garanhuns', 'Caruaru', 'Arcoverde', 'Petrolina', 'Sanharó', 'Pesqueira', 'Recife', 'Olinda', 'Paulista', 'Jaboatão dos Gararapes', 'Bonito', 'Belo Jardim', 'Gravatá']\n",
      "['Gravatá', 'Sanharó', 'Recife', 'Caruaru', 'Paulista', 'Bonito', 'Pesqueira', 'Belo Jardim', 'Santa Cruz do Capibaribe', 'Petrolina', 'Arcoverde', 'Jaboatão dos Gararapes', 'Olinda', 'Garanhuns', 'Lajedo']\n",
      "['Jaboatão dos Gararapes', 'Bonito', 'Sanharó', 'Caruaru', 'Santa Cruz do Capibaribe', 'Arcoverde', 'Petrolina', 'Garanhuns', 'Belo Jardim', 'Lajedo', 'Paulista', 'Gravatá', 'Pesqueira', 'Olinda', 'Recife']\n",
      "['Garanhuns', 'Paulista', 'Recife', 'Santa Cruz do Capibaribe', 'Pesqueira', 'Olinda', 'Jaboatão dos Gararapes', 'Arcoverde', 'Bonito', 'Belo Jardim', 'Gravatá', 'Caruaru', 'Sanharó', 'Petrolina', 'Lajedo']\n",
      "['Olinda', 'Recife', 'Gravatá', 'Garanhuns', 'Sanharó', 'Caruaru', 'Paulista', 'Jaboatão dos Gararapes', 'Lajedo', 'Belo Jardim', 'Petrolina', 'Pesqueira', 'Arcoverde', 'Santa Cruz do Capibaribe', 'Bonito']\n",
      "['Paulista', 'Sanharó', 'Petrolina', 'Belo Jardim', 'Caruaru', 'Gravatá', 'Pesqueira', 'Lajedo', 'Bonito', 'Recife', 'Olinda', 'Arcoverde', 'Garanhuns', 'Jaboatão dos Gararapes', 'Santa Cruz do Capibaribe']\n",
      "['Sanharó', 'Belo Jardim', 'Gravatá', 'Pesqueira', 'Olinda', 'Petrolina', 'Lajedo', 'Santa Cruz do Capibaribe', 'Caruaru', 'Recife', 'Garanhuns', 'Jaboatão dos Gararapes', 'Arcoverde', 'Bonito', 'Paulista']\n",
      "['Olinda', 'Arcoverde', 'Jaboatão dos Gararapes', 'Caruaru', 'Lajedo', 'Belo Jardim', 'Paulista', 'Garanhuns', 'Recife', 'Pesqueira', 'Petrolina', 'Sanharó', 'Santa Cruz do Capibaribe', 'Bonito', 'Gravatá']\n",
      "['Bonito', 'Olinda', 'Petrolina', 'Santa Cruz do Capibaribe', 'Gravatá', 'Jaboatão dos Gararapes', 'Pesqueira', 'Lajedo', 'Garanhuns', 'Arcoverde', 'Paulista', 'Sanharó', 'Caruaru', 'Belo Jardim', 'Recife']\n",
      "['Bonito', 'Jaboatão dos Gararapes', 'Pesqueira', 'Santa Cruz do Capibaribe', 'Recife', 'Belo Jardim', 'Arcoverde', 'Paulista', 'Garanhuns', 'Petrolina', 'Lajedo', 'Caruaru', 'Gravatá', 'Sanharó', 'Olinda']\n",
      "['Recife', 'Sanharó', 'Olinda', 'Paulista', 'Petrolina', 'Garanhuns', 'Belo Jardim', 'Pesqueira', 'Caruaru', 'Arcoverde', 'Bonito', 'Gravatá', 'Lajedo', 'Jaboatão dos Gararapes', 'Santa Cruz do Capibaribe']\n",
      "['Lajedo', 'Recife', 'Jaboatão dos Gararapes', 'Caruaru', 'Olinda', 'Paulista', 'Garanhuns', 'Pesqueira', 'Petrolina', 'Belo Jardim', 'Sanharó', 'Gravatá', 'Bonito', 'Santa Cruz do Capibaribe', 'Arcoverde']\n",
      "['Garanhuns', 'Olinda', 'Jaboatão dos Gararapes', 'Lajedo', 'Arcoverde', 'Recife', 'Belo Jardim', 'Petrolina', 'Sanharó', 'Pesqueira', 'Gravatá', 'Paulista', 'Santa Cruz do Capibaribe', 'Bonito', 'Caruaru']\n",
      "['Jaboatão dos Gararapes', 'Belo Jardim', 'Gravatá', 'Arcoverde', 'Paulista', 'Olinda', 'Sanharó', 'Caruaru', 'Santa Cruz do Capibaribe', 'Pesqueira', 'Garanhuns', 'Lajedo', 'Bonito', 'Recife', 'Petrolina']\n",
      "['Bonito', 'Caruaru', 'Paulista', 'Garanhuns', 'Lajedo', 'Belo Jardim', 'Jaboatão dos Gararapes', 'Olinda', 'Recife', 'Petrolina', 'Gravatá', 'Arcoverde', 'Pesqueira', 'Sanharó', 'Santa Cruz do Capibaribe']\n",
      "['Garanhuns', 'Bonito', 'Belo Jardim', 'Jaboatão dos Gararapes', 'Caruaru', 'Recife', 'Pesqueira', 'Santa Cruz do Capibaribe', 'Arcoverde', 'Paulista', 'Sanharó', 'Lajedo', 'Gravatá', 'Petrolina', 'Olinda']\n",
      "['Belo Jardim', 'Bonito', 'Gravatá', 'Garanhuns', 'Lajedo', 'Pesqueira', 'Petrolina', 'Jaboatão dos Gararapes', 'Paulista', 'Recife', 'Caruaru', 'Sanharó', 'Santa Cruz do Capibaribe', 'Olinda', 'Arcoverde']\n",
      "['Recife', 'Jaboatão dos Gararapes', 'Olinda', 'Pesqueira', 'Belo Jardim', 'Sanharó', 'Santa Cruz do Capibaribe', 'Lajedo', 'Arcoverde', 'Garanhuns', 'Bonito', 'Caruaru', 'Paulista', 'Gravatá', 'Petrolina']\n",
      "['Pesqueira', 'Lajedo', 'Gravatá', 'Bonito', 'Paulista', 'Recife', 'Garanhuns', 'Belo Jardim', 'Sanharó', 'Caruaru', 'Jaboatão dos Gararapes', 'Santa Cruz do Capibaribe', 'Olinda', 'Petrolina', 'Arcoverde']\n",
      "['Petrolina', 'Recife', 'Paulista', 'Jaboatão dos Gararapes', 'Pesqueira', 'Arcoverde', 'Santa Cruz do Capibaribe', 'Gravatá', 'Lajedo', 'Belo Jardim', 'Olinda', 'Bonito', 'Caruaru', 'Sanharó', 'Garanhuns']\n",
      "['Olinda', 'Caruaru', 'Santa Cruz do Capibaribe', 'Jaboatão dos Gararapes', 'Recife', 'Sanharó', 'Pesqueira', 'Bonito', 'Arcoverde', 'Petrolina', 'Gravatá', 'Lajedo', 'Paulista', 'Belo Jardim', 'Garanhuns']\n",
      "['Jaboatão dos Gararapes', 'Belo Jardim', 'Olinda', 'Paulista', 'Petrolina', 'Gravatá', 'Arcoverde', 'Santa Cruz do Capibaribe', 'Sanharó', 'Recife', 'Bonito', 'Caruaru', 'Lajedo', 'Garanhuns', 'Pesqueira']\n",
      "['Sanharó', 'Arcoverde', 'Paulista', 'Jaboatão dos Gararapes', 'Recife', 'Santa Cruz do Capibaribe', 'Gravatá', 'Belo Jardim', 'Bonito', 'Garanhuns', 'Caruaru', 'Olinda', 'Petrolina', 'Lajedo', 'Pesqueira']\n",
      "['Recife', 'Santa Cruz do Capibaribe', 'Olinda', 'Gravatá', 'Bonito', 'Caruaru', 'Paulista', 'Garanhuns', 'Sanharó', 'Belo Jardim', 'Pesqueira', 'Arcoverde', 'Lajedo', 'Jaboatão dos Gararapes', 'Petrolina']\n",
      "['Paulista', 'Olinda', 'Jaboatão dos Gararapes', 'Recife', 'Bonito', 'Pesqueira', 'Gravatá', 'Santa Cruz do Capibaribe', 'Arcoverde', 'Petrolina', 'Lajedo', 'Garanhuns', 'Caruaru', 'Sanharó', 'Belo Jardim']\n",
      "['Petrolina', 'Jaboatão dos Gararapes', 'Paulista', 'Pesqueira', 'Garanhuns', 'Sanharó', 'Santa Cruz do Capibaribe', 'Recife', 'Lajedo', 'Caruaru', 'Belo Jardim', 'Olinda', 'Bonito', 'Arcoverde', 'Gravatá']\n",
      "['Petrolina', 'Bonito', 'Gravatá', 'Recife', 'Jaboatão dos Gararapes', 'Garanhuns', 'Caruaru', 'Pesqueira', 'Santa Cruz do Capibaribe', 'Arcoverde', 'Belo Jardim', 'Olinda', 'Paulista', 'Sanharó', 'Lajedo']\n",
      "['Paulista', 'Petrolina', 'Bonito', 'Caruaru', 'Belo Jardim', 'Lajedo', 'Arcoverde', 'Pesqueira', 'Gravatá', 'Recife', 'Garanhuns', 'Jaboatão dos Gararapes', 'Sanharó', 'Santa Cruz do Capibaribe', 'Olinda']\n",
      "['Bonito', 'Garanhuns', 'Petrolina', 'Sanharó', 'Olinda', 'Paulista', 'Lajedo', 'Pesqueira', 'Gravatá', 'Santa Cruz do Capibaribe', 'Recife', 'Belo Jardim', 'Jaboatão dos Gararapes', 'Arcoverde', 'Caruaru']\n",
      "['Bonito', 'Sanharó', 'Jaboatão dos Gararapes', 'Caruaru', 'Paulista', 'Olinda', 'Pesqueira', 'Lajedo', 'Gravatá', 'Santa Cruz do Capibaribe', 'Petrolina', 'Belo Jardim', 'Recife', 'Arcoverde', 'Garanhuns']\n",
      "['Arcoverde', 'Jaboatão dos Gararapes', 'Lajedo', 'Caruaru', 'Garanhuns', 'Recife', 'Belo Jardim', 'Pesqueira', 'Paulista', 'Sanharó', 'Santa Cruz do Capibaribe', 'Gravatá', 'Petrolina', 'Bonito', 'Olinda']\n",
      "['Paulista', 'Pesqueira', 'Belo Jardim', 'Petrolina', 'Caruaru', 'Lajedo', 'Jaboatão dos Gararapes', 'Santa Cruz do Capibaribe', 'Arcoverde', 'Recife', 'Bonito', 'Olinda', 'Gravatá', 'Garanhuns', 'Sanharó']\n",
      "['Olinda', 'Sanharó', 'Arcoverde', 'Paulista', 'Gravatá', 'Bonito', 'Caruaru', 'Garanhuns', 'Recife', 'Lajedo', 'Santa Cruz do Capibaribe', 'Jaboatão dos Gararapes', 'Pesqueira', 'Petrolina', 'Belo Jardim']\n",
      "['Bonito', 'Paulista', 'Pesqueira', 'Caruaru', 'Santa Cruz do Capibaribe', 'Recife', 'Jaboatão dos Gararapes', 'Petrolina', 'Lajedo', 'Belo Jardim', 'Garanhuns', 'Gravatá', 'Arcoverde', 'Olinda', 'Sanharó']\n",
      "['Pesqueira', 'Gravatá', 'Bonito', 'Belo Jardim', 'Santa Cruz do Capibaribe', 'Olinda', 'Petrolina', 'Arcoverde', 'Sanharó', 'Garanhuns', 'Recife', 'Lajedo', 'Caruaru', 'Jaboatão dos Gararapes', 'Paulista']\n",
      "['Sanharó', 'Bonito', 'Gravatá', 'Arcoverde', 'Santa Cruz do Capibaribe', 'Garanhuns', 'Recife', 'Olinda', 'Petrolina', 'Pesqueira', 'Caruaru', 'Paulista', 'Jaboatão dos Gararapes', 'Lajedo', 'Belo Jardim']\n",
      "['Recife', 'Petrolina', 'Lajedo', 'Pesqueira', 'Garanhuns', 'Olinda', 'Arcoverde', 'Belo Jardim', 'Paulista', 'Bonito', 'Jaboatão dos Gararapes', 'Sanharó', 'Santa Cruz do Capibaribe', 'Gravatá', 'Caruaru']\n",
      "['Jaboatão dos Gararapes', 'Recife', 'Sanharó', 'Garanhuns', 'Gravatá', 'Paulista', 'Olinda', 'Lajedo', 'Caruaru', 'Bonito', 'Arcoverde', 'Petrolina', 'Belo Jardim', 'Pesqueira', 'Santa Cruz do Capibaribe']\n",
      "['Garanhuns', 'Gravatá', 'Santa Cruz do Capibaribe', 'Caruaru', 'Bonito', 'Petrolina', 'Paulista', 'Pesqueira', 'Olinda', 'Arcoverde', 'Belo Jardim', 'Recife', 'Sanharó', 'Lajedo', 'Jaboatão dos Gararapes']\n",
      "['Olinda', 'Paulista', 'Arcoverde', 'Sanharó', 'Jaboatão dos Gararapes', 'Garanhuns', 'Bonito', 'Lajedo', 'Santa Cruz do Capibaribe', 'Caruaru', 'Petrolina', 'Recife', 'Belo Jardim', 'Pesqueira', 'Gravatá']\n",
      "['Bonito', 'Recife', 'Olinda', 'Jaboatão dos Gararapes', 'Caruaru', 'Paulista', 'Gravatá', 'Arcoverde', 'Pesqueira', 'Sanharó', 'Petrolina', 'Garanhuns', 'Belo Jardim', 'Santa Cruz do Capibaribe', 'Lajedo']\n",
      "['Caruaru', 'Petrolina', 'Sanharó', 'Olinda', 'Arcoverde', 'Recife', 'Garanhuns', 'Bonito', 'Santa Cruz do Capibaribe', 'Jaboatão dos Gararapes', 'Lajedo', 'Paulista', 'Belo Jardim', 'Gravatá', 'Pesqueira']\n",
      "['Gravatá', 'Arcoverde', 'Garanhuns', 'Belo Jardim', 'Bonito', 'Lajedo', 'Recife', 'Olinda', 'Petrolina', 'Pesqueira', 'Sanharó', 'Caruaru', 'Jaboatão dos Gararapes', 'Santa Cruz do Capibaribe', 'Paulista']\n",
      "['Santa Cruz do Capibaribe', 'Jaboatão dos Gararapes', 'Arcoverde', 'Gravatá', 'Caruaru', 'Petrolina', 'Garanhuns', 'Pesqueira', 'Belo Jardim', 'Bonito', 'Sanharó', 'Lajedo', 'Recife', 'Olinda', 'Paulista']\n",
      "['Pesqueira', 'Sanharó', 'Lajedo', 'Santa Cruz do Capibaribe', 'Recife', 'Jaboatão dos Gararapes', 'Caruaru', 'Petrolina', 'Olinda', 'Arcoverde', 'Belo Jardim', 'Gravatá', 'Garanhuns', 'Paulista', 'Bonito']\n",
      "['Lajedo', 'Gravatá', 'Petrolina', 'Sanharó', 'Recife', 'Arcoverde', 'Belo Jardim', 'Santa Cruz do Capibaribe', 'Bonito', 'Caruaru', 'Jaboatão dos Gararapes', 'Paulista', 'Garanhuns', 'Olinda', 'Pesqueira']\n",
      "['Caruaru', 'Lajedo', 'Olinda', 'Arcoverde', 'Pesqueira', 'Jaboatão dos Gararapes', 'Paulista', 'Santa Cruz do Capibaribe', 'Garanhuns', 'Belo Jardim', 'Recife', 'Gravatá', 'Petrolina', 'Bonito', 'Sanharó']\n",
      "['Santa Cruz do Capibaribe', 'Arcoverde', 'Recife', 'Bonito', 'Lajedo', 'Belo Jardim', 'Gravatá', 'Garanhuns', 'Olinda', 'Petrolina', 'Caruaru', 'Pesqueira', 'Sanharó', 'Jaboatão dos Gararapes', 'Paulista']\n",
      "['Garanhuns', 'Jaboatão dos Gararapes', 'Petrolina', 'Bonito', 'Pesqueira', 'Lajedo', 'Caruaru', 'Olinda', 'Belo Jardim', 'Paulista', 'Arcoverde', 'Gravatá', 'Recife', 'Sanharó', 'Santa Cruz do Capibaribe']\n",
      "['Sanharó', 'Jaboatão dos Gararapes', 'Petrolina', 'Belo Jardim', 'Santa Cruz do Capibaribe', 'Paulista', 'Recife', 'Pesqueira', 'Lajedo', 'Arcoverde', 'Olinda', 'Bonito', 'Garanhuns', 'Gravatá', 'Caruaru']\n",
      "['Recife', 'Gravatá', 'Lajedo', 'Bonito', 'Pesqueira', 'Sanharó', 'Petrolina', 'Caruaru', 'Belo Jardim', 'Paulista', 'Olinda', 'Garanhuns', 'Jaboatão dos Gararapes', 'Arcoverde', 'Santa Cruz do Capibaribe']\n",
      "['Gravatá', 'Belo Jardim', 'Arcoverde', 'Bonito', 'Paulista', 'Pesqueira', 'Petrolina', 'Garanhuns', 'Santa Cruz do Capibaribe', 'Olinda', 'Recife', 'Sanharó', 'Lajedo', 'Jaboatão dos Gararapes', 'Caruaru']\n",
      "['Recife', 'Arcoverde', 'Santa Cruz do Capibaribe', 'Caruaru', 'Gravatá', 'Petrolina', 'Lajedo', 'Belo Jardim', 'Paulista', 'Bonito', 'Garanhuns', 'Sanharó', 'Pesqueira', 'Jaboatão dos Gararapes', 'Olinda']\n",
      "['Santa Cruz do Capibaribe', 'Gravatá', 'Pesqueira', 'Lajedo', 'Petrolina', 'Garanhuns', 'Belo Jardim', 'Bonito', 'Caruaru', 'Arcoverde', 'Olinda', 'Paulista', 'Recife', 'Sanharó', 'Jaboatão dos Gararapes']\n",
      "['Belo Jardim', 'Lajedo', 'Sanharó', 'Santa Cruz do Capibaribe', 'Pesqueira', 'Petrolina', 'Bonito', 'Gravatá', 'Recife', 'Olinda', 'Caruaru', 'Garanhuns', 'Paulista', 'Jaboatão dos Gararapes', 'Arcoverde']\n",
      "\n"
     ]
    },
    {
     "data": {
      "image/png": "[encoded data removed]",
      "text/plain": [
       "<Figure size 432x288 with 1 Axes>"
      ]
     },
     "metadata": {
      "needs_background": "light"
     },
     "output_type": "display_data"
    }
   ],
   "source": [
    "geneticAlgorithmPlot(population=cityList, popSize=100, eliteSize=10, mutationRate=0.01, generations=2)"
   ]
  }
 ],
 "metadata": {
  "kernelspec": {
   "display_name": "Python 3 (ipykernel)",
   "language": "python",
   "name": "python3"
  },
  "language_info": {
   "codemirror_mode": {
    "name": "ipython",
    "version": 3
   },
   "file_extension": ".py",
   "mimetype": "text/x-python",
   "name": "python",
   "nbconvert_exporter": "python",
   "pygments_lexer": "ipython3",
   "version": "3.8.0"
  }
 },
 "nbformat": 4,
 "nbformat_minor": 2
}
